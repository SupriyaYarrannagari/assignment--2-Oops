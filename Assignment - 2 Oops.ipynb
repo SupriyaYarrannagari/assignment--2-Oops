{
 "cells": [
  {
   "cell_type": "markdown",
   "id": "f997346e",
   "metadata": {},
   "source": [
    "# Constructor:"
   ]
  },
  {
   "cell_type": "code",
   "execution_count": null,
   "id": "a9b92ffd",
   "metadata": {},
   "outputs": [],
   "source": [
    "#1. What is a constructor in Python? Explain its purpose and usage.\n",
    "A constructor is a special method called when an object is created.Its essentially for \"birthplace\" to the object.\n",
    "where its initialized and prepared for use.\n",
    "Purpose:\n",
    "1.initialize object attributes: the primary purpose of the constructor is to assign a initial values to the objects attributes.\n",
    "are called data members or instances variables.these attributes defines state of the object.\n",
    "2.perform setup tasks: constructors are also performed other tasks such as opening files,connecting to databases.\n",
    "Usage:\n",
    "the constructor has a special method called __init__ method.this method follows the arguments such as\n",
    "1.self : this is a reference to the newly creating object itself.it allows you to access, modify the objects atrributes \n",
    "within the constructor.\n",
    "2.Optical arguments : you can define additional arguments to get the information from the user or another object\n",
    "when creating the new objects."
   ]
  },
  {
   "cell_type": "code",
   "execution_count": 2,
   "id": "8c41237c",
   "metadata": {},
   "outputs": [
    {
     "name": "stdout",
     "output_type": "stream",
     "text": [
      "vikisha 5\n",
      "nosmitha 1.5\n"
     ]
    }
   ],
   "source": [
    "class person:\n",
    "    def __init__(self,name,age):\n",
    "        self.name= name\n",
    "        self.age=age\n",
    "person1=person(\"vikisha\",5)\n",
    "person2=person(\"nosmitha\",1.5)\n",
    "print(person1.name,person1.age)\n",
    "print(person2.name,person2.age)"
   ]
  },
  {
   "cell_type": "code",
   "execution_count": null,
   "id": "3c3c8d6e",
   "metadata": {},
   "outputs": [],
   "source": [
    "#2. Differentiate between a parameterless constructor and a parameterized constructor in Python.\n",
    "1.parameterless constructor:\n",
    "parameterless contructor is also known as default constructor or no-argument constructor.\n",
    "it makes no arguments other than \"self\".\n",
    "useful when the object doesnt require any specific initial values and can be left with its default state."
   ]
  },
  {
   "cell_type": "code",
   "execution_count": 12,
   "id": "670bf486",
   "metadata": {},
   "outputs": [
    {
     "name": "stdout",
     "output_type": "stream",
     "text": [
      "point1 : x = 0,point1 : y = 0\n"
     ]
    }
   ],
   "source": [
    "class point:\n",
    "    def __init__(self):\n",
    "        self.x = 0\n",
    "        self.y = 0\n",
    "point1=point()\n",
    "print(f\"point1 : x = {point1.x},point1 : y = {point1.y}\")"
   ]
  },
  {
   "cell_type": "code",
   "execution_count": null,
   "id": "35c5d3e8",
   "metadata": {},
   "outputs": [],
   "source": [
    "2.parameterized constructor:\n",
    "it has one or more arguments besides self.\n",
    "userful for when the object is initialized with specific values passed by the user.\n",
    "allows for greater flexibility and control  over the initial state of the object. "
   ]
  },
  {
   "cell_type": "code",
   "execution_count": 16,
   "id": "699e333a",
   "metadata": {},
   "outputs": [
    {
     "name": "stdout",
     "output_type": "stream",
     "text": [
      "student1 : name=sharvin,age = 12\n"
     ]
    }
   ],
   "source": [
    "class student:\n",
    "    def __init__(self,name,age):\n",
    "        self.name=name\n",
    "        self.age=age\n",
    "student1=student(\"sharvin\",12)\n",
    "print(f\"student1 : name={student1.name},age = {student1.age}\")\n",
    "        "
   ]
  },
  {
   "cell_type": "code",
   "execution_count": null,
   "id": "78b34bd4",
   "metadata": {},
   "outputs": [],
   "source": [
    "#3. How do you define a constructor in a Python class? Provide an example.\n",
    "constructor is a special method used for initializing a attributes of an object when it is created.\n",
    "the constructor method named is __init__ method. "
   ]
  },
  {
   "cell_type": "code",
   "execution_count": 6,
   "id": "d1b2a2d5",
   "metadata": {},
   "outputs": [
    {
     "name": "stdout",
     "output_type": "stream",
     "text": [
      "my name is supriya yarrannagari\n"
     ]
    }
   ],
   "source": [
    "class student:\n",
    "    def __init__(self,first_name,last_name):\n",
    "        self.first_name = first_name\n",
    "        self.last_name = last_name\n",
    "    def print_name(self):\n",
    "        print(f\"my name is {self.first_name} {self.last_name}\")\n",
    "student_instance=student(first_name = \"supriya\", last_name = \"yarrannagari\")\n",
    "student_instance.print_name()"
   ]
  },
  {
   "cell_type": "code",
   "execution_count": null,
   "id": "d65d893d",
   "metadata": {},
   "outputs": [],
   "source": [
    "# 4.Explain the `__init__` method in Python and its role in constructors.\n",
    "the \"__init__\" method is a specila method for initializing the attributes of an object when it is created.\n",
    "It is commonly used in the initializer and the constructor method.\n",
    "the term \"constructor\" comes from the fact that this method is automatically called when a new instance class is created.\n",
    "__init__ method that its role in constructors such as initializer,constructor,self,and finally __init__ method.\n",
    "it is plays a crucial role in the constructor when the objetc is created."
   ]
  },
  {
   "cell_type": "code",
   "execution_count": 8,
   "id": "3f003449",
   "metadata": {},
   "outputs": [
    {
     "name": "stdout",
     "output_type": "stream",
     "text": [
      "vikisha Reddy\n",
      "6\n"
     ]
    }
   ],
   "source": [
    "class student:\n",
    "    def __init__(self,name,age):\n",
    "        self.name = name\n",
    "        self.age = age\n",
    "person_instance=student(name=\"vikisha Reddy\",age=6)\n",
    "print(person_instance.name)\n",
    "print(person_instance.age)"
   ]
  },
  {
   "cell_type": "code",
   "execution_count": 12,
   "id": "9ae1ada5",
   "metadata": {},
   "outputs": [
    {
     "name": "stdout",
     "output_type": "stream",
     "text": [
      "person name is sharvin tej\n",
      "he is a 2 years old boy\n"
     ]
    }
   ],
   "source": [
    "#5. In a class named `Person`, create a constructor that initializes the `name` and `age` attributes.\n",
    "#Provide an example of creating an object of this class.\n",
    "class person:\n",
    "    def __init__(self,name,age):\n",
    "        self.name = name\n",
    "        self.age = age\n",
    "person_instance=person(name=\"sharvin tej\",age=2)\n",
    "print(f\"person name is {person_instance.name}\")\n",
    "print(f\"he is a {person_instance.age} years old boy\")"
   ]
  },
  {
   "cell_type": "code",
   "execution_count": null,
   "id": "95f5c3d3",
   "metadata": {},
   "outputs": [],
   "source": [
    "#6. #6.How can you call a constructor explicitly in Python? Give an example.\n",
    "the constructor called the __init__method is automatically called when you created the attributes to an class\n",
    "or create an instance of a class.however,if you want to called a constructor called explicitly,you can do so used the class name."
   ]
  },
  {
   "cell_type": "code",
   "execution_count": 14,
   "id": "eab4ee70",
   "metadata": {},
   "outputs": [
    {
     "name": "stdout",
     "output_type": "stream",
     "text": [
      "the constructor called with value:42\n",
      "the constructor called with value:60\n"
     ]
    }
   ],
   "source": [
    "class myclass:\n",
    "    def __init__(self,value):\n",
    "        self.value = value\n",
    "        print(f\"the constructor called with value:{self.value}\")\n",
    "obj=myclass(value=42)\n",
    "explicit_obj=myclass.__init__(obj,value=60)\n"
   ]
  },
  {
   "cell_type": "code",
   "execution_count": null,
   "id": "48bb6e9b",
   "metadata": {},
   "outputs": [],
   "source": [
    "#7. What is the significance of the `self` parameter in Python constructors? Explain with an example.\n",
    "the self parameter in constructor (and other methods within the class) is a convention that represents the instance of a class.\n"
   ]
  },
  {
   "cell_type": "code",
   "execution_count": 17,
   "id": "12cfff32",
   "metadata": {},
   "outputs": [
    {
     "name": "stdout",
     "output_type": "stream",
     "text": [
      "fluto is 3 years old\n",
      "fluto says woof!\n",
      "tommy is 2 years old\n",
      "tommy says woof!\n"
     ]
    }
   ],
   "source": [
    "class dog:\n",
    "    def __init__(self,name,age):\n",
    "        self.name = name\n",
    "        self.age = age\n",
    "    def bark(self):\n",
    "        print(f\"{self.name} says woof!\")\n",
    "dog1=dog(name=\"fluto\",age=3)\n",
    "dog2=dog(name=\"tommy\",age=2)\n",
    "print(f\"{dog1.name} is {dog1.age} years old\")\n",
    "dog1.bark()\n",
    "print(f\"{dog2.name} is {dog2.age} years old\")\n",
    "dog2.bark()"
   ]
  },
  {
   "cell_type": "code",
   "execution_count": null,
   "id": "352d3f06",
   "metadata": {},
   "outputs": [],
   "source": [
    "#8. Discuss the concept of default constructors in Python. When are they used?\n",
    "default constructor refers to constructor that is provided by the language itself  if a class does not eplicity define one.\n",
    "this default constructor takes no parameters other than the mandatory 'self' parameter and it does not perform any specific initialization.\n",
    "if you do not provide the own constructor in a class, it takes automatically adds a default constructor."
   ]
  },
  {
   "cell_type": "code",
   "execution_count": 18,
   "id": "59e5bcac",
   "metadata": {},
   "outputs": [],
   "source": [
    "class myclass:\n",
    "    def __init__(self):\n",
    "        pass"
   ]
  },
  {
   "cell_type": "code",
   "execution_count": 19,
   "id": "10dbe0dd",
   "metadata": {},
   "outputs": [
    {
     "name": "stdout",
     "output_type": "stream",
     "text": [
      "point coordinates: 5,6\n"
     ]
    }
   ],
   "source": [
    "class point:\n",
    "    def __init__(self,x,y):\n",
    "        self.x = x\n",
    "        self.y = y\n",
    "point1=point(x=5,y=6)\n",
    "print(f\"point coordinates: {point1.x},{point1.y}\")"
   ]
  },
  {
   "cell_type": "code",
   "execution_count": 21,
   "id": "a57b16f4",
   "metadata": {},
   "outputs": [
    {
     "name": "stdout",
     "output_type": "stream",
     "text": [
      "rectangle width: 5\n",
      "rectangle height: 8\n",
      "rectangle area: 40\n"
     ]
    }
   ],
   "source": [
    "#9. Create a Python class called `Rectangle` with a constructor that initializes the `width` and `height` attributes.\n",
    "#Provide a method to calculate the area of the rectangle.\n",
    "class rectangle:\n",
    "    def __init__(self,width,height):\n",
    "        self.width = width\n",
    "        self.height = height\n",
    "    def calculate_area(self):\n",
    "        return self.width * self.height\n",
    "my_rectangle=rectangle(width=5,height=8)\n",
    "print(f\"rectangle width: {my_rectangle.width}\")\n",
    "print(f\"rectangle height: {my_rectangle.height}\")\n",
    "print(f\"rectangle area: {my_rectangle.calculate_area()}\")\n"
   ]
  },
  {
   "cell_type": "code",
   "execution_count": 24,
   "id": "a7a8711b",
   "metadata": {},
   "outputs": [
    {
     "name": "stdout",
     "output_type": "stream",
     "text": [
      "rectangle1:width=1,height=1,calculate_area=1\n",
      "rectangle2:width=4,height=8,calculate_area=32\n"
     ]
    }
   ],
   "source": [
    "#10. How can you have multiple constructors in a Python class? Explain with an example.\n",
    "class rectangle:\n",
    "    def __init__(self,width=None,height=None):\n",
    "        if width is not None and height is not None:\n",
    "            self.width = width\n",
    "            self.height = height\n",
    "        else:\n",
    "            self.width = 1\n",
    "            self.height = 1\n",
    "    def set_dimensions(self,width,height):\n",
    "        self.width = width\n",
    "        self.height = height\n",
    "    def calculate_area(self):\n",
    "        return self.width * self.height\n",
    "rectangle1=rectangle()\n",
    "rectangle2=rectangle(width=4,height=8)\n",
    "print(f\"rectangle1:width={rectangle1.width},height={rectangle1.height},calculate_area={rectangle1.calculate_area()}\")\n",
    "print(f\"rectangle2:width={rectangle2.width},height={rectangle2.height},calculate_area={rectangle2.calculate_area()}\")\n"
   ]
  },
  {
   "cell_type": "code",
   "execution_count": null,
   "id": "12fff563",
   "metadata": {},
   "outputs": [],
   "source": [
    "#11. What is method overloading, and how is it related to constructors in Python?\n",
    "method overloading is refers to the ability to define multiple methods with the same name in a class but different parameters lists.\n",
    "python allows a form of method overloading through default values and veriable length arguments lists.\n",
    "method overloading can be applied to provide multiple ways to initialize an object with different sets of parameters."
   ]
  },
  {
   "cell_type": "code",
   "execution_count": 25,
   "id": "5005faf1",
   "metadata": {},
   "outputs": [
    {
     "name": "stdout",
     "output_type": "stream",
     "text": [
      "rectangle1:width=1,height=1,calculate_area=1\n",
      "rectangle2:width=4,height=4,calculate_area=16\n",
      "rectangle3:width=5,height=9,calculate_area=45\n"
     ]
    }
   ],
   "source": [
    "class rectangle:\n",
    "    def __init__(self,width=None,height=None):\n",
    "        if width is not None and height is not None:\n",
    "            self.width = width\n",
    "            self.height = height\n",
    "        elif width is not None:\n",
    "            self.width = width\n",
    "            self.height = width\n",
    "        else:\n",
    "            self.width = 1\n",
    "            self.height = 1\n",
    "    def set_dimentions(self,width,height):\n",
    "        self.width = width\n",
    "        self.height = height\n",
    "    def calculate_area(self):\n",
    "        return self.width*self.height\n",
    "rectangle1=rectangle()\n",
    "rectangle2=rectangle(width=4)\n",
    "rectangle3=rectangle(width=5,height=9)\n",
    "print(f\"rectangle1:width={rectangle1.width},height={rectangle1.height},calculate_area={rectangle1.calculate_area()}\")\n",
    "print(f\"rectangle2:width={rectangle2.width},height={rectangle2.height},calculate_area={rectangle2.calculate_area()}\")\n",
    "print(f\"rectangle3:width={rectangle3.width},height={rectangle3.height},calculate_area={rectangle3.calculate_area()}\")"
   ]
  },
  {
   "cell_type": "code",
   "execution_count": null,
   "id": "29b64ecc",
   "metadata": {},
   "outputs": [],
   "source": [
    "#12. Explain the use of the `super()` function in Python constructors. Provide an example.\n",
    "the super() function is used to call the a method from a parent class.\n",
    "It is commonly used in the context of the class inheritance especially in the constructor of a subclass.\n",
    "The super() ,you can invoke the constructor of the parent class and initialized its attributes before adding \n",
    "or modifing the attributes specific to the subclass."
   ]
  },
  {
   "cell_type": "code",
   "execution_count": 3,
   "id": "54ca7b35",
   "metadata": {},
   "outputs": [
    {
     "name": "stdout",
     "output_type": "stream",
     "text": [
      "name:ashwini,age:35\n",
      "\n",
      "\n",
      "name:vikisha,age:6\n",
      "hobby:playing video games\n"
     ]
    }
   ],
   "source": [
    "class parent:\n",
    "    def __init__(self,name,age):\n",
    "        self.name = name\n",
    "        self.age = age\n",
    "    def display_info(self):\n",
    "        print(f\"name:{self.name},age:{self.age}\")\n",
    "class child(parent):\n",
    "    def __init__(self,name,age,hobby):\n",
    "        super().__init__(name,age)\n",
    "        self.hobby = hobby\n",
    "    def display_info(self):\n",
    "        super().display_info()\n",
    "        print(f\"hobby:{self.hobby}\")\n",
    "parent_obj=parent(name=\"ashwini\",age=35)\n",
    "parent_obj.display_info()\n",
    "print(\"\\n\")\n",
    "parent_obj= child(name=\"vikisha\",age=6,hobby=\"playing video games\")\n",
    "parent_obj.display_info()"
   ]
  },
  {
   "cell_type": "code",
   "execution_count": 4,
   "id": "cac466a1",
   "metadata": {},
   "outputs": [
    {
     "name": "stdout",
     "output_type": "stream",
     "text": [
      "title: the great gatsby\n",
      "author: F.Scott fitzgerald\n",
      "published_year: 1925\n",
      "the book the great gatsby written by F.Scott fitzgerald in 1925\n",
      "\n",
      "\n",
      "title: the wings\n",
      "author: APJ Abdul Kalam\n",
      "published_year: 1989\n",
      "the book the wings written by APJ Abdul Kalam in 1989\n"
     ]
    }
   ],
   "source": [
    "#13. Create a class called `Book` with a constructor that initializes the `title`, `author`, and `published_year` \n",
    "#attributes. Provide a method to display book details.\n",
    "class book:\n",
    "    def __init__(self,title,author,published_year):\n",
    "        self.title = title\n",
    "        self.author = author\n",
    "        self.published_year = published_year\n",
    "    def display_details(self):\n",
    "        print(f\"title: {self.title}\")\n",
    "        print(f\"author: {self.author}\")\n",
    "        print(f\"published_year: {self.published_year}\")\n",
    "        print(f\"the book {self.title} written by {self.author} in {self.published_year}\")\n",
    "book1=book(title=\"the great gatsby\",author=\"F.Scott fitzgerald\",published_year=1925)\n",
    "book1.display_details()\n",
    "print(\"\\n\")\n",
    "book2=book(title=\"the wings\", author=\"APJ Abdul Kalam\",published_year=1989)\n",
    "book2.display_details()"
   ]
  },
  {
   "cell_type": "code",
   "execution_count": 5,
   "id": "bda70cea",
   "metadata": {},
   "outputs": [
    {
     "name": "stdout",
     "output_type": "stream",
     "text": [
      "5\n",
      "10\n",
      "15\n"
     ]
    }
   ],
   "source": [
    "#14. Discuss the differences between constructors and regular methods in Python classes.\n",
    "class myclass:\n",
    "    def __init__(self,x,y):\n",
    "        self.x = x\n",
    "        self.y = y\n",
    "    def add_values(self):\n",
    "        return self.x + self.y\n",
    "obj=myclass(x=5,y=10)\n",
    "print(obj.x)\n",
    "print(obj.y)\n",
    "result=obj.add_values()\n",
    "print(result)"
   ]
  },
  {
   "cell_type": "code",
   "execution_count": 7,
   "id": "b6e3ba62",
   "metadata": {},
   "outputs": [
    {
     "name": "stdout",
     "output_type": "stream",
     "text": [
      "x: 5, y: 8\n"
     ]
    }
   ],
   "source": [
    "#15. Explain the role of the `self` parameter in instance variable initialization within a constructor.\n",
    "class myclass:\n",
    "    def __init__(self,x,y):\n",
    "        self.x = x\n",
    "        self.y = y\n",
    "    def display_values(self):\n",
    "        print(f\"x: {self.x}, y: {self.y}\")\n",
    "obj=myclass(5,8)\n",
    "obj.display_values()"
   ]
  },
  {
   "cell_type": "code",
   "execution_count": 16,
   "id": "85ea2fe2",
   "metadata": {},
   "outputs": [
    {
     "name": "stdout",
     "output_type": "stream",
     "text": [
      "True\n",
      "Instance 1 Data\n",
      "Instance 1 Data\n"
     ]
    }
   ],
   "source": [
    "#16. How do you prevent a class from having multiple instances by using constructors in Python? Provide an example.\n",
    "class SingletonClass:\n",
    "    _instance = None\n",
    "    def __new__(cls, *args, **kwargs):\n",
    "        if not cls._instance:\n",
    "            cls._instance = super(SingletonClass, cls).__new__(cls)\n",
    "        return cls._instance\n",
    "    def __init__(self, data):\n",
    "        if not hasattr(self, '_initialized'):\n",
    "            self.data = data\n",
    "            self._initialized = True\n",
    "singleton_instance1 = SingletonClass(data=\"Instance 1 Data\")\n",
    "singleton_instance2 = SingletonClass(data=\"Instance 2 Data\")\n",
    "print(singleton_instance1 is singleton_instance2)  \n",
    "print(singleton_instance1.data) \n",
    "print(singleton_instance2.data)\n",
    "        "
   ]
  },
  {
   "cell_type": "code",
   "execution_count": 18,
   "id": "105d02a7",
   "metadata": {},
   "outputs": [
    {
     "name": "stdout",
     "output_type": "stream",
     "text": [
      "subjets\n",
      " - English\n",
      " - hindi\n",
      " - Telugu\n",
      "\n",
      "\n",
      "subjets\n",
      " - maths\n",
      " - chemistry\n",
      " - Physics\n"
     ]
    }
   ],
   "source": [
    "#17. Create a Python class called `Student` with a constructor that takes a list of subjects as a parameter and initializes the `subjects` attribute.\n",
    "class student:\n",
    "    def __init__(self,subjects):\n",
    "        self.subjects = subjects\n",
    "    def display_subjects(self):\n",
    "        print(\"subjets\")\n",
    "        for subject in self.subjects:\n",
    "            print(f\" - {subject}\")\n",
    "            \n",
    "subject1=student(subjects=[\"English\",\"hindi\",\"Telugu\"])\n",
    "subject1.display_subjects()\n",
    "print(\"\\n\")\n",
    "subject2=student(subjects=[\"maths\",\"chemistry\",\"Physics\"])\n",
    "subject2.display_subjects()\n",
    "            "
   ]
  },
  {
   "cell_type": "code",
   "execution_count": null,
   "id": "449ab4f8",
   "metadata": {},
   "outputs": [],
   "source": [
    "#18. What is the purpose of the `__del__` method in Python classes, and how does it relate to constructors?\n",
    "The __del__ method is a special method that serve as a method destructor for a class.\n",
    "It is called when an object is about to be destroyed or garbage collected.\n",
    "The primary purpose of the __sel__ method is to perform any cleanup or finalized the tasks before the object remove from memory.\n",
    "the __init__ method is used to initialized when the object is created."
   ]
  },
  {
   "cell_type": "code",
   "execution_count": 22,
   "id": "12642c1b",
   "metadata": {},
   "outputs": [],
   "source": [
    "class python:\n",
    "    def __init__(self,data):\n",
    "        self.data = data\n"
   ]
  },
  {
   "cell_type": "code",
   "execution_count": 23,
   "id": "82a4e2aa",
   "metadata": {},
   "outputs": [],
   "source": [
    "class myclass:\n",
    "    def __del__(self):\n",
    "        pass"
   ]
  },
  {
   "cell_type": "code",
   "execution_count": 28,
   "id": "87f5f8bb",
   "metadata": {},
   "outputs": [
    {
     "name": "stdout",
     "output_type": "stream",
     "text": [
      "file 'example.txt' open in 'w' mode.\n",
      "File 'example.txt' closed.\n"
     ]
    }
   ],
   "source": [
    "class filehandler:\n",
    "    def __init__(self,filename,mode):\n",
    "        self.filename = filename\n",
    "        self.mode = mode\n",
    "        self.file = open(filename,mode)\n",
    "        print(f\"file '{filename}' open in '{mode}' mode.\")\n",
    "    def write_data(self,data):\n",
    "        self.file.write(data)\n",
    "    def close_file(self):\n",
    "        self.file.close()\n",
    "        print(f\" file '{self.filename}' closed.\")\n",
    "    def __del__(self):\n",
    "        if hasattr(self,'file') and not self.file.closed:\n",
    "            self.close_file()\n",
    "file_handler = filehandler(filename='example.txt',mode='w')\n",
    "file_handler.write_data(\"Hello world!\")"
   ]
  },
  {
   "cell_type": "code",
   "execution_count": 30,
   "id": "9006d45d",
   "metadata": {},
   "outputs": [
    {
     "name": "stdout",
     "output_type": "stream",
     "text": [
      "vehicle initialized with brand : Toyato\n",
      "car initialized with brand: Toyato,model : camry\n"
     ]
    }
   ],
   "source": [
    "#19. Explain the use of constructor chaining in Python. Provide a practical example.\n",
    "class vehicle:\n",
    "    def __init__(self,brand):\n",
    "        self.brand = brand\n",
    "        print(f\"vehicle initialized with brand : {self.brand}\")\n",
    "class car(vehicle):\n",
    "    def __init__(self,brand,model):\n",
    "        super().__init__(brand)\n",
    "        self.model = model\n",
    "        print(f\"car initialized with brand: {self.brand},model : {self.model}\")\n",
    "car = car(brand=\"Toyato\",model=\"camry\")"
   ]
  },
  {
   "cell_type": "code",
   "execution_count": 37,
   "id": "c85ff1cd",
   "metadata": {},
   "outputs": [
    {
     "name": "stdout",
     "output_type": "stream",
     "text": [
      "make:Toyato\n",
      "model:carmy\n",
      "the car is Toyato ,carmy\n"
     ]
    }
   ],
   "source": [
    "#20. Create a Python class called `Car` with a default constructor that initializes the `make` and `model` attributes. Provide a method to display car information.\n",
    "class car:\n",
    "    def __init__(self,make,model):\n",
    "        self.make = make\n",
    "        self.model = model\n",
    "    def display_info(self):\n",
    "        print(f\"make:{self.make}\")\n",
    "        print(f\"model:{self.model}\")\n",
    "        print(f\"the car is {self.make} ,{self.model}\")\n",
    "car_instance=car(make=\"Toyato\",model=\"carmy\")\n",
    "car_instance.display_info()"
   ]
  },
  {
   "cell_type": "markdown",
   "id": "bce7320c",
   "metadata": {},
   "source": [
    "# Inheritance:"
   ]
  },
  {
   "cell_type": "code",
   "execution_count": null,
   "id": "cc4fb7b1",
   "metadata": {},
   "outputs": [],
   "source": [
    "#1. What is inheritance in Python? Explain its significance in object-oriented programming.\n",
    "inheritance is the fundamental concept in object oriented programming that allows a new class to inherit attributes \n",
    "and behaviours from an existing class.the existing class is called the base class or parent class and \n",
    "the new class is called the child class or derived class."
   ]
  },
  {
   "cell_type": "code",
   "execution_count": 38,
   "id": "940d7b2c",
   "metadata": {},
   "outputs": [
    {
     "name": "stdout",
     "output_type": "stream",
     "text": [
      "buddy barks\n",
      "munny meows\n"
     ]
    }
   ],
   "source": [
    "class animal:\n",
    "    def __init__(self,name):\n",
    "        self.name = name\n",
    "    def speak(self):\n",
    "        print(f\"{self.name} makes a sound\")\n",
    "class dog(animal):\n",
    "    def speak(self):\n",
    "        print(f\"{self.name} barks\")\n",
    "class cat(animal):\n",
    "    def speak(self):\n",
    "        print(f\"{self.name} meows\")\n",
    "dog=dog(name=\"buddy\")\n",
    "cat=cat(name=\"munny\")\n",
    "dog.speak()\n",
    "cat.speak()\n",
    "        "
   ]
  },
  {
   "cell_type": "code",
   "execution_count": null,
   "id": "1aa51ce5",
   "metadata": {},
   "outputs": [],
   "source": [
    "#2. Differentiate between single inheritance and multiple inheritance in Python. Provide examples for each.\n",
    "single inhetances,a class can inherit from only one parent class.this means that a child class can extend or override\n",
    "the attributes and methods of a single parent class."
   ]
  },
  {
   "cell_type": "code",
   "execution_count": 39,
   "id": "ad9e9da6",
   "metadata": {},
   "outputs": [
    {
     "name": "stdout",
     "output_type": "stream",
     "text": [
      "speak animal\n",
      "dog barks\n"
     ]
    }
   ],
   "source": [
    "#single inheritance\n",
    "class animal:\n",
    "    def speak(self):\n",
    "        print(f\"speak animal\")\n",
    "class dog(animal):\n",
    "    def bark(self):\n",
    "        print(f\"dog barks\")\n",
    "dog=dog()\n",
    "dog.speak()\n",
    "dog.bark()\n"
   ]
  },
  {
   "cell_type": "code",
   "execution_count": null,
   "id": "1b585130",
   "metadata": {},
   "outputs": [],
   "source": [
    "#multiple inheritance\n",
    "the multiple inheritance ,a class can inherit from more than one parent class.\n",
    "This means that child class to inherit attributes and methodsfrom multiple parents class."
   ]
  },
  {
   "cell_type": "code",
   "execution_count": 41,
   "id": "f758a3a1",
   "metadata": {},
   "outputs": [
    {
     "name": "stdout",
     "output_type": "stream",
     "text": [
      "can fly\n",
      "can swin\n"
     ]
    }
   ],
   "source": [
    "#multiple inheritance\n",
    "class flyable:\n",
    "    def fly(self):\n",
    "        print(f\"can fly\")\n",
    "class swimmable:\n",
    "    def swim(Self):\n",
    "        print(f\"can swin\")\n",
    "class amphibian(flyable,swimmable):\n",
    "    pass\n",
    "frog=amphibian()\n",
    "frog.fly()\n",
    "frog.swim()"
   ]
  },
  {
   "cell_type": "code",
   "execution_count": 45,
   "id": "67ec8ee2",
   "metadata": {},
   "outputs": [
    {
     "name": "stdout",
     "output_type": "stream",
     "text": [
      "color: red\n",
      "speed: 50\n",
      "brand: toyato\n"
     ]
    }
   ],
   "source": [
    "#3. Create a Python class called `Vehicle` with attributes `color` and `speed`. Then, create a child class called \n",
    "#`Car` that inherits from `Vehicle` and adds a `brand` attribute. Provide an example of creating a `Car` object.\n",
    "class vehicle:\n",
    "    def __init__(self,color,speed):\n",
    "        self.color = color\n",
    "        self.speed = speed\n",
    "class car(vehicle):\n",
    "    def __init__(self,color,speed,brand):\n",
    "        super().__init__(color,speed)\n",
    "        self.brand = brand\n",
    "car_obj=car(color=\"red\",speed=50,brand=\"toyato\")\n",
    "print(f\"color: {car_obj.color}\")\n",
    "print(f\"speed: {car_obj.speed}\")\n",
    "print(f\"brand: {car_obj.brand}\")"
   ]
  },
  {
   "cell_type": "code",
   "execution_count": null,
   "id": "1706fdee",
   "metadata": {},
   "outputs": [],
   "source": [
    "#4. Explain the concept of method overriding in inheritance. Provide a practical example.\n",
    "method overriding is a concept of object oriented programming language where a child class provides a specific implemention\n",
    "for a method that is already defined in its parent class."
   ]
  },
  {
   "cell_type": "code",
   "execution_count": 46,
   "id": "d75352b8",
   "metadata": {},
   "outputs": [
    {
     "name": "stdout",
     "output_type": "stream",
     "text": [
      "dog barks\n",
      "cat meows.\n"
     ]
    }
   ],
   "source": [
    "class animal:\n",
    "    def speak(self):\n",
    "        print(f\"animal speaks\")\n",
    "class dog(animal):\n",
    "    def speak(self):\n",
    "        print(f\"dog barks\")\n",
    "class cat(animal):\n",
    "    def speak(self):\n",
    "        print(\"cat meows.\")\n",
    "dog=dog()\n",
    "cat=cat()\n",
    "dog.speak()\n",
    "cat.speak()"
   ]
  },
  {
   "cell_type": "code",
   "execution_count": 48,
   "id": "7473e00c",
   "metadata": {},
   "outputs": [
    {
     "name": "stdout",
     "output_type": "stream",
     "text": [
      "dog name: puppy\n",
      "dog breed: golden retriever\n",
      "puppy makes a sound:\n",
      "dog barks\n"
     ]
    }
   ],
   "source": [
    "#5. How can you access the methods and attributes of a parent class from a child class in Python? Give an example.\n",
    "class animal:\n",
    "    def __init__(self,name):\n",
    "        self.name = name\n",
    "    def speak(self):\n",
    "        print(f\"{self.name} makes a sound:\")\n",
    "class dog(animal):\n",
    "    def __init__(self,name,breed):\n",
    "        super().__init__(name)\n",
    "        self.breed = breed\n",
    "    def speak(self):\n",
    "        super().speak()\n",
    "        print(\"dog barks\")\n",
    "dog=dog(name=\"puppy\",breed=\"golden retriever\")\n",
    "print(f\"dog name: {dog.name}\")\n",
    "print(f\"dog breed: {dog.breed}\")\n",
    "dog.speak()\n",
    "        \n",
    "        \n",
    "        "
   ]
  },
  {
   "cell_type": "code",
   "execution_count": 50,
   "id": "74cff0e8",
   "metadata": {},
   "outputs": [
    {
     "name": "stdout",
     "output_type": "stream",
     "text": [
      "cat name : fluto\n",
      "cat breed : shirin\n",
      "fluto makes a sound:\n",
      "cats say meows\n"
     ]
    }
   ],
   "source": [
    "#6. Discuss the use of the `super()` function in Python inheritance. When and why is it used? Provide an example.\n",
    "class animal:\n",
    "    def __init__(self,name):\n",
    "        self.name = name\n",
    "    def speak(self):\n",
    "        print(f\"{self.name} makes a sound:\")\n",
    "class cat(animal):\n",
    "    def __init__(self,name,breed):\n",
    "        super().__init__(name)\n",
    "        self.breed = breed\n",
    "    def speak(self):\n",
    "        super().speak()\n",
    "        print(\"cats say meows\")\n",
    "cat=cat(name=\"fluto\",breed=\"shirin\")\n",
    "print(f\"cat name : {cat.name}\")\n",
    "print(f\"cat breed : {cat.breed}\")\n",
    "cat.speak()\n",
    "        "
   ]
  },
  {
   "cell_type": "code",
   "execution_count": 52,
   "id": "b1251574",
   "metadata": {},
   "outputs": [
    {
     "name": "stdout",
     "output_type": "stream",
     "text": [
      "generic animal:\n",
      "general_animal sound\n",
      "\n",
      "dog:\n",
      "dog barks\n",
      "\n",
      "cat\n",
      "cat meows\n"
     ]
    }
   ],
   "source": [
    "#7. Create a Python class called `Animal` with a method `speak()`. Then, create child classes `Dog` and `Cat` that inherit from `Animal` and override the `speak()` method. Provide an example of using these classes.\n",
    "class animal:\n",
    "    def speak(self):\n",
    "        print(\"general_animal sound\")\n",
    "class dog(animal):\n",
    "    def speak(self):\n",
    "        print(\"dog barks\")\n",
    "class cat(animal):\n",
    "    def speak(self):\n",
    "        print(\"cat meows\")\n",
    "generic_animal=animal()\n",
    "dog = dog()\n",
    "cat = cat()\n",
    "print(\"generic animal:\")\n",
    "generic_animal.speak()\n",
    "print(\"\\ndog:\")\n",
    "dog.speak()\n",
    "print(\"\\ncat\")\n",
    "cat.speak()"
   ]
  },
  {
   "cell_type": "code",
   "execution_count": 54,
   "id": "695bc3cf",
   "metadata": {},
   "outputs": [
    {
     "name": "stdout",
     "output_type": "stream",
     "text": [
      "True\n",
      "True\n",
      "True\n",
      "True\n",
      "True\n",
      "False\n",
      "False\n"
     ]
    }
   ],
   "source": [
    "#8. Explain the role of the `isinstance()` function in Python and how it relates to inheritance.\n",
    "class animal:\n",
    "    pass\n",
    "class dog(animal):\n",
    "    pass\n",
    "class cat(animal):\n",
    "    pass\n",
    "animal_obj = animal()\n",
    "dog_obj = dog()\n",
    "cat_obj = cat()\n",
    "print(isinstance(animal_obj,animal))\n",
    "print(isinstance(dog_obj,dog))\n",
    "print(isinstance(cat_obj,cat))\n",
    "\n",
    "print(isinstance(dog_obj,animal))\n",
    "print(isinstance(cat_obj,animal))\n",
    "\n",
    "print(isinstance(animal_obj,dog))\n",
    "print(isinstance(dog_obj,cat))"
   ]
  },
  {
   "cell_type": "code",
   "execution_count": null,
   "id": "d8f5d428",
   "metadata": {},
   "outputs": [],
   "source": [
    "#9. What is the purpose of the `issubclass()` function in Python? Provide an example.\n",
    "the issubclass() function in python is used to check the if a class is a subclass of another class."
   ]
  },
  {
   "cell_type": "code",
   "execution_count": 55,
   "id": "ada0c005",
   "metadata": {},
   "outputs": [
    {
     "name": "stdout",
     "output_type": "stream",
     "text": [
      "True\n",
      "True\n",
      "True\n",
      "False\n"
     ]
    }
   ],
   "source": [
    "class animal:\n",
    "    pass\n",
    "class mammel(animal):\n",
    "    pass\n",
    "class dog(mammel):\n",
    "    pass\n",
    "print(issubclass(mammel,animal))\n",
    "print(issubclass(dog,mammel))\n",
    "print(issubclass(dog,animal))\n",
    "print(issubclass(int,animal))"
   ]
  },
  {
   "cell_type": "code",
   "execution_count": 57,
   "id": "7191dc4f",
   "metadata": {},
   "outputs": [
    {
     "name": "stdout",
     "output_type": "stream",
     "text": [
      "buddy is a 3-year-old labrador.\n"
     ]
    }
   ],
   "source": [
    "#10. Discuss the concept of constructor inheritance in Python. How are constructors inherited in child classes?\n",
    "class dog:\n",
    "    def __init__(self,name,age,breed):\n",
    "        self.name = name\n",
    "        self.age = age\n",
    "        self.breed = breed\n",
    "my_dog=dog(name=\"buddy\",age=3,breed=\"labrador\")\n",
    "print(f\"{my_dog.name} is a {my_dog.age}-year-old {my_dog.breed}.\")"
   ]
  },
  {
   "cell_type": "code",
   "execution_count": 3,
   "id": "8f693bef",
   "metadata": {},
   "outputs": [
    {
     "name": "stdout",
     "output_type": "stream",
     "text": [
      "circle area: 78.53981633974483\n",
      "rectangle area: 32\n"
     ]
    }
   ],
   "source": [
    "#11. Create a Python class called `Shape` with a method `area()` that calculates the area of a shape. Then, create child classes `Circle` and `Rectangle` that inherit from `Shape` and implement the `area()` method accordingly. Provide an examp\n",
    "import math\n",
    "class shape:\n",
    "    def area(self):\n",
    "        pass\n",
    "class circle:\n",
    "    def __init__(self,radius):\n",
    "        self.radius = radius\n",
    "    def area(self):\n",
    "        return math.pi * self.radius**2\n",
    "class rectangle:\n",
    "    def __init__(self,width,height):\n",
    "        self.width = width\n",
    "        self.height = height\n",
    "    def area(self):\n",
    "        return self.width * self.height\n",
    "circle=circle(radius=5)\n",
    "rectangle = rectangle(width=4,height=8)\n",
    "print(f\"circle area: {circle.area()}\")\n",
    "print(f\"rectangle area: {rectangle.area()}\")"
   ]
  },
  {
   "cell_type": "code",
   "execution_count": 12,
   "id": "360cb589",
   "metadata": {},
   "outputs": [
    {
     "name": "stdout",
     "output_type": "stream",
     "text": [
      "circle area: 200.32\n",
      "rectangle area: 45\n"
     ]
    }
   ],
   "source": [
    "#12. Explain the use of abstract base classes (ABCs) in Python and how they relate to inheritance. Provide an example using the `abc` module.\n",
    "from abc import  ABC\n",
    "class shape(ABC):\n",
    "    def area(self):\n",
    "        pass\n",
    "class circle(shape):\n",
    "    def __init__(self,radius):\n",
    "        self.radius = radius\n",
    "    def area(self):\n",
    "        return 3.13 *self.radius**2\n",
    "class rectangle(shape):\n",
    "    def __init__(self,width,height):\n",
    "        self.width = width\n",
    "        self.height = height\n",
    "    def area(self):\n",
    "        return self.width * self.height\n",
    "circle =circle(radius=8)\n",
    "rectangle=rectangle(width=5,height=9)\n",
    "print(f\"circle area: {circle.area()}\")\n",
    "print(f\"rectangle area: {rectangle.area()}\")"
   ]
  },
  {
   "cell_type": "code",
   "execution_count": 14,
   "id": "63117d5d",
   "metadata": {},
   "outputs": [
    {
     "name": "stdout",
     "output_type": "stream",
     "text": [
      "Parent's private attribute: 42\n",
      "This is a public method.\n",
      "This is a private method.\n"
     ]
    }
   ],
   "source": [
    "#13. How can you prevent a child class from modifying certain attributes or methods inherited from a parent class in Python?\n",
    "class Parent:\n",
    "    def __init__(self):\n",
    "        self.__private_attribute = 42\n",
    "    def get_private_attribute(self):\n",
    "        return self.__private_attribute\n",
    "    def __private_method(self):\n",
    "        print(\"This is a private method.\")\n",
    "\n",
    "    def public_method(self):\n",
    "        print(\"This is a public method.\")\n",
    "        self.__private_method()\n",
    "class Child(Parent):\n",
    "    def modify_parent_attribute(self, new_value):\n",
    "        pass\n",
    "    def access_parent_private_method(self):\n",
    "        pass\n",
    "parent_instance = Parent()\n",
    "print(f\"Parent's private attribute: {parent_instance.get_private_attribute()}\")\n",
    "parent_instance.public_method()\n",
    "\n",
    "child_instance = Child()\n",
    "child_instance.modify_parent_attribute(new_value=100) \n",
    "child_instance.access_parent_private_method() \n"
   ]
  },
  {
   "cell_type": "code",
   "execution_count": 17,
   "id": "616d04d9",
   "metadata": {},
   "outputs": [
    {
     "name": "stdout",
     "output_type": "stream",
     "text": [
      "name:supriya reddy,salary:450000\n",
      "name:prasanna reddy,salary: 1200000,department:software developer\n"
     ]
    }
   ],
   "source": [
    "#14. Create a Python class called `Employee` with attributes `name` and `salary`. Then, create a child class \n",
    "#`Manager` that inherits from `Employee` and adds an attribute `department`. Provide an example.\n",
    "class employee:\n",
    "    def __init__(self,name,salary):\n",
    "        self.name = name\n",
    "        self.salary = salary\n",
    "    def display_info(self):\n",
    "        print(f\"name:{self.name},salary:{self.salary}\")\n",
    "class manager(employee):\n",
    "    def __init__(self,name,salary,department):\n",
    "        super().__init__(name,salary)\n",
    "        self.department = department\n",
    "    def display_info(self):\n",
    "        print(f\"name:{self.name},salary: {self.salary},department:{self.department}\")\n",
    "employee1=employee(name=\"supriya reddy\",salary=450000)\n",
    "employee1.display_info()\n",
    "manager1=manager(name=\"prasanna reddy\",salary=1200000,department=\"software developer\")\n",
    "manager1.display_info()\n",
    "\n",
    "        "
   ]
  },
  {
   "cell_type": "code",
   "execution_count": null,
   "id": "106bc673",
   "metadata": {},
   "outputs": [],
   "source": [
    "#15. Discuss the concept of method overloading in Python inheritance. How does it differ from method overriding?\n",
    "Method overloading refers to defining multiple methods in the same class with the same name but different parameters."
   ]
  },
  {
   "cell_type": "code",
   "execution_count": 18,
   "id": "b4678ff5",
   "metadata": {},
   "outputs": [
    {
     "name": "stdout",
     "output_type": "stream",
     "text": [
      "1\n",
      "3\n",
      "6\n"
     ]
    }
   ],
   "source": [
    "class MathOperations:\n",
    "    def add(self, a, b=None, c=None):\n",
    "        if b is not None and c is not None:\n",
    "            return a + b + c\n",
    "        elif b is not None:\n",
    "            return a + b\n",
    "        else:\n",
    "            return a\n",
    "math_ops = MathOperations()\n",
    "print(math_ops.add(1))         \n",
    "print(math_ops.add(1, 2))      \n",
    "print(math_ops.add(1, 2, 3))   \n"
   ]
  },
  {
   "cell_type": "code",
   "execution_count": null,
   "id": "7e5c4683",
   "metadata": {},
   "outputs": [],
   "source": [
    "#method overriding\n",
    "Method overriding occurs when a subclass provides a specific implementation for a method that is already defined in its superclass.\n"
   ]
  },
  {
   "cell_type": "code",
   "execution_count": 19,
   "id": "6b457c65",
   "metadata": {},
   "outputs": [
    {
     "name": "stdout",
     "output_type": "stream",
     "text": [
      "Animal speaks\n",
      "Dog barks\n"
     ]
    }
   ],
   "source": [
    "class Animal:\n",
    "    def speak(self):\n",
    "        print(\"Animal speaks\")\n",
    "class Dog(Animal):\n",
    "    def speak(self):\n",
    "        print(\"Dog barks\")\n",
    "animal = Animal()\n",
    "animal.speak()  \n",
    "dog = Dog()\n",
    "dog.speak()    \n"
   ]
  },
  {
   "cell_type": "code",
   "execution_count": null,
   "id": "464ad943",
   "metadata": {},
   "outputs": [],
   "source": [
    "#16. Explain the purpose of the `__init__()` method in Python inheritance and how it is utilized in child classes.\n",
    "The __init__() method in Python is a special method, also known as a constructor.\n",
    "It is automatically called when an object of a class is created.\n",
    "The primary purpose of the __init__() method is to initialize the attributes of the object.\n"
   ]
  },
  {
   "cell_type": "code",
   "execution_count": 20,
   "id": "a3832fd0",
   "metadata": {},
   "outputs": [
    {
     "name": "stdout",
     "output_type": "stream",
     "text": [
      "Animal species: Unknown\n",
      "Generic animal sound\n",
      "Dog species: Dog, Name: Buddy, Breed: Golden Retriever\n",
      "Woof!\n"
     ]
    }
   ],
   "source": [
    "class Animal:\n",
    "    def __init__(self, species):\n",
    "        self.species = species\n",
    "    def make_sound(self):\n",
    "        print(\"Generic animal sound\")\n",
    "class Dog(Animal):\n",
    "    def __init__(self, name, breed):\n",
    "        super().__init__(species=\"Dog\")\n",
    "        self.name = name\n",
    "        self.breed = breed\n",
    "    def make_sound(self):\n",
    "        print(\"Woof!\")\n",
    "animal = Animal(species=\"Unknown\")\n",
    "print(f\"Animal species: {animal.species}\")\n",
    "animal.make_sound()\n",
    "dog = Dog(name=\"Buddy\", breed=\"Golden Retriever\")\n",
    "print(f\"Dog species: {dog.species}, Name: {dog.name}, Breed: {dog.breed}\")\n",
    "dog.make_sound()"
   ]
  },
  {
   "cell_type": "code",
   "execution_count": 22,
   "id": "3274cf5a",
   "metadata": {},
   "outputs": [
    {
     "name": "stdout",
     "output_type": "stream",
     "text": [
      "generic bird flying\n",
      "the eagle soaring through the skies\n",
      "sparrow is flitting and fluttering\n"
     ]
    }
   ],
   "source": [
    "#17. Create a Python class called `Bird` with a method `fly()`. Then, create child classes `Eagle` and `Sparrow` that inherit from `Bird` and implement the `fly()` method differently. Provide an example of using these classes.\n",
    "class bird:\n",
    "    def fly(self):\n",
    "        print(\"generic bird flying\")\n",
    "class eagle(bird):\n",
    "    def fly(self):\n",
    "        print(\"the eagle soaring through the skies\")\n",
    "class sparrow(bird):\n",
    "    def fly(self):\n",
    "        print(\"sparrow is flitting and fluttering\")\n",
    "generic_bird=bird()\n",
    "generic_bird.fly()\n",
    "eagle = eagle()\n",
    "eagle.fly()\n",
    "sparrow = sparrow()\n",
    "sparrow.fly()"
   ]
  },
  {
   "cell_type": "code",
   "execution_count": 23,
   "id": "102bd0cc",
   "metadata": {},
   "outputs": [
    {
     "name": "stdout",
     "output_type": "stream",
     "text": [
      "method of class B\n"
     ]
    }
   ],
   "source": [
    "#18. What is the \"diamond problem\" in multiple inheritance, and how does Python address it?\n",
    "class A:\n",
    "    def method(self):\n",
    "        print(\"method of class A\")\n",
    "class B(A):\n",
    "    def method(self):\n",
    "        print(\"method of class B\")\n",
    "class C(A):\n",
    "    def mehtod(Self):\n",
    "        print(\"method of class C\")\n",
    "class D(B,C):\n",
    "        pass\n",
    "obj = D()\n",
    "obj.method()\n",
    "\n",
    "        "
   ]
  },
  {
   "cell_type": "code",
   "execution_count": null,
   "id": "8f4f46b9",
   "metadata": {},
   "outputs": [],
   "source": [
    "#19. Discuss the concept of \"is-a\" and \"has-a\" relationships in inheritance, and provide examples of each.\n",
    "The \"is-a\" relationship denotes inheritance, where a subclass is a specialized version of its superclass. \n",
    "It signifies a more specific type or subtype relationship."
   ]
  },
  {
   "cell_type": "code",
   "execution_count": 24,
   "id": "85c4f711",
   "metadata": {},
   "outputs": [
    {
     "name": "stdout",
     "output_type": "stream",
     "text": [
      "woof!\n"
     ]
    }
   ],
   "source": [
    "class animal:\n",
    "    def make_sound(Self):\n",
    "        pass\n",
    "class dog(animal):\n",
    "    def make_sound(self):\n",
    "        print(\"woof!\")\n",
    "dog=dog()\n",
    "dog.make_sound()\n",
    "    "
   ]
  },
  {
   "cell_type": "code",
   "execution_count": null,
   "id": "0820c913",
   "metadata": {},
   "outputs": [],
   "source": [
    "#has_a\n",
    "The \"has-a\" relationship denotes composition, where one class has an instance of another class as a part of its implementation.\n",
    "It signifies a component or attribute relationship."
   ]
  },
  {
   "cell_type": "code",
   "execution_count": null,
   "id": "447321a4",
   "metadata": {},
   "outputs": [],
   "source": [
    "class engine:\n",
    "    def start(self):\n",
    "        print(\"engine started\")\n",
    "class car:\n",
    "    def __init__(self):\n",
    "        self.engine = engine\n",
    "    def start_engine(self):\n",
    "        self.start_engine()\n",
    "my_car=car()\n",
    "my_car.start_engine()"
   ]
  },
  {
   "cell_type": "code",
   "execution_count": 1,
   "id": "2fdc5730",
   "metadata": {},
   "outputs": [
    {
     "name": "stdout",
     "output_type": "stream",
     "text": [
      "Alice has enrolled in Mathematics\n",
      "Alice has enrolled in Computer Science\n",
      "Name: Alice, Age: 20\n",
      "Student ID: S12345, Courses: Mathematics, Computer Science\n"
     ]
    }
   ],
   "source": [
    "#20. Create a Python class hierarchy for a university system. Start with a base class `Person` and create child classes `Student` and `Professor`, each with their own attributes and methods. Provide an example of using these classes in a university context.\n",
    "class Person:\n",
    "    def __init__(self, name, age):\n",
    "        self.name = name\n",
    "        self.age = age\n",
    "    def display_info(self):\n",
    "        print(f\"Name: {self.name}, Age: {self.age}\")\n",
    "class Student(Person):\n",
    "    def __init__(self, name, age, student_id):\n",
    "        super().__init__(name, age)\n",
    "        self.student_id = student_id\n",
    "        self.courses = []\n",
    "    def enroll_course(self, course):\n",
    "        self.courses.append(course)\n",
    "        print(f\"{self.name} has enrolled in {course}\")\n",
    "    def display_info(self):\n",
    "        super().display_info()\n",
    "        print(f\"Student ID: {self.student_id}, Courses: {', '.join(self.courses)}\")\n",
    "class Professor(Person):\n",
    "    def __init__(self, name, age, employee_id):\n",
    "        super().__init__(name, age)\n",
    "        self.employee_id = employee_id\n",
    "        self.courses_taught = []\n",
    "    def assign_course(self, course):\n",
    "        self.courses_taught.append(course)\n",
    "        print(f\"{self.name} is now teaching {course}\")\n",
    "    def display_info(self):\n",
    "        super().display_info()\n",
    "        print(f\"Employee ID: {self.employee_id}, Courses Taught: {', '.join(self.courses_taught)}\")\n",
    "student1 = Student(name=\"Alice\", age=20, student_id=\"S12345\")\n",
    "student1.enroll_course(\"Mathematics\")\n",
    "student1.enroll_course(\"Computer Science\")\n",
    "student1.display_info()\n",
    "\n"
   ]
  },
  {
   "cell_type": "markdown",
   "id": "cd0eb7cc",
   "metadata": {},
   "source": [
    "# Encapsulation:"
   ]
  },
  {
   "cell_type": "code",
   "execution_count": null,
   "id": "1357f17f",
   "metadata": {},
   "outputs": [],
   "source": [
    "#1. Explain the concept of encapsulation in Python. What is its role in object-oriented programming?\n",
    "Encapsulation is one of the fundamental concepts in object-oriented programming and is aimed at bundling the data and methods that operate on the data into a single unit known as a class. \n"
   ]
  },
  {
   "cell_type": "code",
   "execution_count": 1,
   "id": "0602b247",
   "metadata": {},
   "outputs": [
    {
     "name": "stdout",
     "output_type": "stream",
     "text": [
      "Current Balance: 1300\n"
     ]
    }
   ],
   "source": [
    "class BankAccount:\n",
    "    def __init__(self, balance):\n",
    "        self.__balance = balance\n",
    "    def deposit(self, amount):\n",
    "        self.__balance += amount\n",
    "    def withdraw(self, amount):\n",
    "        if amount <= self.__balance:\n",
    "            self.__balance -= amount\n",
    "        else:\n",
    "            print(\"Insufficient funds\")\n",
    "    def get_balance(self):\n",
    "        return self.__balance\n",
    "account = BankAccount(balance=1000)\n",
    "account.deposit(500)\n",
    "account.withdraw(200)\n",
    "print(\"Current Balance:\", account.get_balance())"
   ]
  },
  {
   "cell_type": "code",
   "execution_count": null,
   "id": "24dc9aba",
   "metadata": {},
   "outputs": [],
   "source": [
    "#2. Describe the key principles of encapsulation, including access control and data hiding.\n",
    "Access control involves specifying the visibility and accessibility of the  attributes and methods of a class. \n",
    "This is done using access modifiers in the form of private, protected, and public attributes/methods.\n",
    "1.private method:\n",
    "    members are markad as private are accessible only within the class.\n",
    "    The private methods and attributes are denoted by double underscore(__).\n",
    "2.protected access method:\n",
    "    members are marked as protected are accessible only within the class and its subclassess.\n",
    "    The protected methods and attributes are denoted by single underscore(_).\n",
    "3.public access method:\n",
    "    members are marked as public are accessible in anywhere.\n",
    "    the public methods and attributes has no syntax are used.\n",
    "    "
   ]
  },
  {
   "cell_type": "code",
   "execution_count": 8,
   "id": "b0f00a0a",
   "metadata": {},
   "outputs": [
    {
     "name": "stdout",
     "output_type": "stream",
     "text": [
      "42\n"
     ]
    }
   ],
   "source": [
    "#private method\n",
    "class myclass:\n",
    "    def __init__(self):\n",
    "        self.__private_attribute = 42\n",
    "obj=myclass()\n",
    "print(obj._myclass__private_attribute)"
   ]
  },
  {
   "cell_type": "code",
   "execution_count": 5,
   "id": "c3ee643a",
   "metadata": {},
   "outputs": [
    {
     "name": "stdout",
     "output_type": "stream",
     "text": [
      "protected\n"
     ]
    }
   ],
   "source": [
    "#protected method\n",
    "class myclass:\n",
    "    def __init__(self):\n",
    "        self._protected_attribute =\"protected\"\n",
    "obj=myclass()\n",
    "print(obj._protected_attribute)"
   ]
  },
  {
   "cell_type": "code",
   "execution_count": 4,
   "id": "36f9f1a9",
   "metadata": {},
   "outputs": [
    {
     "name": "stdout",
     "output_type": "stream",
     "text": [
      "public\n"
     ]
    }
   ],
   "source": [
    "#public method\n",
    "class myclass:\n",
    "    def __init__(self):\n",
    "        self.public_attribute = \"public\"\n",
    "obj=myclass()\n",
    "print(obj.public_attribute)"
   ]
  },
  {
   "cell_type": "code",
   "execution_count": null,
   "id": "9cfad896",
   "metadata": {},
   "outputs": [],
   "source": [
    "#data hiding\n",
    "Data hiding involves restricting direct access to the internal stat of an object and providing controlled access \n",
    "through methods. This is achievedby marking attributes as private or protected and providing public \n",
    "methods for interacting with the objects state."
   ]
  },
  {
   "cell_type": "code",
   "execution_count": 9,
   "id": "00ef0232",
   "metadata": {},
   "outputs": [],
   "source": [
    "class BankAccount:\n",
    "    def __init__(self, balance):\n",
    "        self.__balance = balance  \n",
    "    def get_balance(self):\n",
    "        return self.__balance  \n",
    "    def deposit(self, amount):\n",
    "        self.__balance += amount\n",
    "    def withdraw(self, amount):\n",
    "        if amount <= self.__balance:\n",
    "            self.__balance -= amount\n",
    "        else:\n",
    "            print(\"Insufficient funds\")"
   ]
  },
  {
   "cell_type": "code",
   "execution_count": 10,
   "id": "0652f71f",
   "metadata": {},
   "outputs": [
    {
     "name": "stdout",
     "output_type": "stream",
     "text": [
      "Name: Alice, Age: 20, Enrollment Status: Not Enrolled\n",
      "Name: Alice\n",
      "Age: 20\n",
      "Name: Alice, Age: 20, Enrollment Status: Enrolled\n"
     ]
    }
   ],
   "source": [
    "#3. How can you achieve encapsulation in Python classes? Provide an example.\n",
    "class Student:\n",
    "    def __init__(self, name, age):\n",
    "        self.__name = name\n",
    "        self.__age = age\n",
    "        self._enrollment_status = \"Not Enrolled\"\n",
    "    def get_name(self):\n",
    "        return self.__name\n",
    "    def get_age(self):\n",
    "        return self.__age\n",
    "    def set_enrollment_status(self, status):\n",
    "        self._enrollment_status = status\n",
    "    def display_info(self):\n",
    "        print(f\"Name: {self.__name}, Age: {self.__age}, Enrollment Status: {self._enrollment_status}\")\n",
    "student = Student(name=\"Alice\", age=20)\n",
    "student.display_info()\n",
    "print(\"Name:\", student.get_name())\n",
    "print(\"Age:\", student.get_age())\n",
    "student.set_enrollment_status(\"Enrolled\")\n",
    "student.display_info()"
   ]
  },
  {
   "cell_type": "code",
   "execution_count": null,
   "id": "ed293ea4",
   "metadata": {},
   "outputs": [],
   "source": [
    "#4. Discuss the difference between public, private, and protected access modifiers in Python.\n",
    "1.public access:\n",
    "    -no underscore is used as a prefix.\n",
    "    -members with public access are accessible from anywhere,both inside and outside the class.\n",
    "    -public members freely accessed,modified or called by external code."
   ]
  },
  {
   "cell_type": "code",
   "execution_count": 12,
   "id": "86e22753",
   "metadata": {},
   "outputs": [
    {
     "name": "stdout",
     "output_type": "stream",
     "text": [
      "this is a public method.\n"
     ]
    }
   ],
   "source": [
    "class myclass:\n",
    "    def public_method(self):\n",
    "        print(\"this is a public method.\")\n",
    "obj=myclass()\n",
    "obj.public_method()\n",
    "        \n",
    "        "
   ]
  },
  {
   "cell_type": "code",
   "execution_count": null,
   "id": "f5d70681",
   "metadata": {},
   "outputs": [],
   "source": [
    "2.private access:\n",
    "    -private access is used double underscore(__) as a prefix.\n",
    "    -members with private access are accessible within the class.\n",
    "    -private methods are intended for the internal use within the class,and external code is encouraged to use public methods for access.\n",
    "    "
   ]
  },
  {
   "cell_type": "code",
   "execution_count": null,
   "id": "bd12881c",
   "metadata": {},
   "outputs": [],
   "source": [
    "class myclass:\n",
    "    def __init__(self):\n",
    "        self.__private_attribute = 42\n",
    "    \n",
    "    def __private_method(self):\n",
    "        print(\"this is a private method\")\n",
    "obj=myclass()\n",
    "obj.__private_method()"
   ]
  },
  {
   "cell_type": "code",
   "execution_count": null,
   "id": "2764a9cf",
   "metadata": {},
   "outputs": [],
   "source": [
    "3.protected access:\n",
    "    -protected access is used single underscore(_) as a prefix.\n",
    "    -members with protected access are accessible within the class and its subclassess.\n",
    "    -the protected class accessed from outside the class.and the protected access has protected single underscores signal that \n",
    "    they are intended for internal use."
   ]
  },
  {
   "cell_type": "code",
   "execution_count": null,
   "id": "07339283",
   "metadata": {},
   "outputs": [],
   "source": [
    "class myclass:\n",
    "    def __init__(self):\n",
    "        self._protected_attribute = \"protected\"\n",
    "    def _protected_method(self):\n",
    "        print(\"this is a protected method. \")\n",
    "obj=myclass()\n",
    "obj._protected_attributes\n",
    "obj._protected_method()"
   ]
  },
  {
   "cell_type": "code",
   "execution_count": 3,
   "id": "cfcce293",
   "metadata": {},
   "outputs": [
    {
     "name": "stdout",
     "output_type": "stream",
     "text": [
      "initial name: supriya reddy\n",
      "updated name: yarrannagari supriya\n"
     ]
    }
   ],
   "source": [
    "#5. Create a Python class called `Person` with a private attribute `__name`. Provide methods to get and set the name attribute.\n",
    "class person:\n",
    "    def __init__(self,name):\n",
    "        self.__name = name\n",
    "    def get_name(self):\n",
    "        return self.__name \n",
    "    def set_name(self,new_name):\n",
    "        self.__name = new_name\n",
    "person_obj=person(\"supriya reddy\")\n",
    "print(\"initial name:\",person_obj.get_name())\n",
    "person_obj.set_name(\"yarrannagari supriya\")\n",
    "print(\"updated name:\", person_obj.get_name()) "
   ]
  },
  {
   "cell_type": "code",
   "execution_count": null,
   "id": "64beb98e",
   "metadata": {},
   "outputs": [],
   "source": [
    "#6. Explain the purpose of getter and setter methods in encapsulation. Provide examples.\n",
    "Encapsulation involves bundling the data and the methods that operate on the data into a single unit, known as a class.\n"
   ]
  },
  {
   "cell_type": "code",
   "execution_count": 4,
   "id": "f9ee6207",
   "metadata": {},
   "outputs": [
    {
     "name": "stdout",
     "output_type": "stream",
     "text": [
      "Name: John\n",
      "Age: 25\n",
      "Updated Name: Jane\n",
      "Updated Age: 30\n"
     ]
    }
   ],
   "source": [
    "class Person:\n",
    "    def __init__(self, name, age):\n",
    "        self.__name = name  \n",
    "        self.__age = age    \n",
    "    def get_name(self):\n",
    "        return self.__name\n",
    "    def set_name(self, new_name):\n",
    "        if isinstance(new_name, str):\n",
    "            self.__name = new_name\n",
    "        else:\n",
    "            print(\"Invalid name format.\")\n",
    "    def get_age(self):\n",
    "        return self.__age\n",
    "    def set_age(self, new_age):\n",
    "        if isinstance(new_age, int) and new_age > 0:\n",
    "            self.__age = new_age\n",
    "        else:\n",
    "            print(\"Invalid age format.\")\n",
    "person = Person(\"John\", 25)\n",
    "print(\"Name:\", person.get_name())\n",
    "print(\"Age:\", person.get_age())\n",
    "person.set_name(\"Jane\")\n",
    "person.set_age(30)\n",
    "print(\"Updated Name:\", person.get_name())\n",
    "print(\"Updated Age:\", person.get_age())\n"
   ]
  },
  {
   "cell_type": "code",
   "execution_count": null,
   "id": "adb7e9e9",
   "metadata": {},
   "outputs": [],
   "source": [
    "#7. What is name mangling in Python, and how does it affect encapsulation?\n",
    "Name mangling is a mechanism that adds a prefix to the names of attributes in a class to make them less accessible \n",
    "from outside the class.The purpose of name mangling is to make attributes more \"private\" and avoid unintentional name \n",
    "clashes between attributes in different classes."
   ]
  },
  {
   "cell_type": "code",
   "execution_count": 5,
   "id": "483b33f7",
   "metadata": {},
   "outputs": [
    {
     "name": "stdout",
     "output_type": "stream",
     "text": [
      "42\n"
     ]
    }
   ],
   "source": [
    "class MyClass:\n",
    "    def __init__(self):\n",
    "        self.__private_attribute = 42\n",
    "obj = MyClass()\n",
    "print(obj._MyClass__private_attribute) "
   ]
  },
  {
   "cell_type": "code",
   "execution_count": 11,
   "id": "04d17637",
   "metadata": {},
   "outputs": [
    {
     "name": "stdout",
     "output_type": "stream",
     "text": [
      "Initial Balance: 10000.0\n",
      "Deposited 5000.0. New balance: 15000.0\n",
      "Withdrew 2000.0. New balance: 13000.0\n",
      "Insufficient funds for withdrawal.\n"
     ]
    }
   ],
   "source": [
    "#8. Create a Python class called `BankAccount` with private attributes for the account balance (`__balance`) \n",
    "#and account number (`__account_number`).Provide methods for depositing and withdrawing money.\n",
    "class BankAccount:\n",
    "    def __init__(self, account_number, initial_balance=0.0):\n",
    "        self.__account_number = account_number\n",
    "        self.__balance = initial_balance\n",
    "    def get_balance(self):\n",
    "        return self.__balance\n",
    "    def deposit(self, amount):\n",
    "        if amount > 0:\n",
    "            self.__balance += amount\n",
    "            print(f\"Deposited {amount}. New balance: {self.__balance}\")\n",
    "        else:\n",
    "            print(\"Invalid deposit amount. Amount must be greater than 0.\")\n",
    "    def withdraw(self, amount):\n",
    "        if 0 < amount <= self.__balance:\n",
    "            self.__balance -= amount\n",
    "            print(f\"Withdrew {amount}. New balance: {self.__balance}\")\n",
    "        elif amount <= 0:\n",
    "            print(\"Invalid withdrawal amount. Amount must be greater than 0.\")\n",
    "        else:\n",
    "            print(\"Insufficient funds for withdrawal.\")\n",
    "account_number = \"123456789\"\n",
    "initial_balance = 10000.0\n",
    "my_account = BankAccount(account_number, initial_balance)\n",
    "print(\"Initial Balance:\", my_account.get_balance())\n",
    "my_account.deposit(5000.0)\n",
    "my_account.withdraw(2000.0)\n",
    "my_account.withdraw(15000.0) "
   ]
  },
  {
   "cell_type": "code",
   "execution_count": null,
   "id": "cf0452d1",
   "metadata": {},
   "outputs": [],
   "source": [
    "#9. Discuss the advantages of encapsulation in terms of code maintainability and security.\n",
    "1.code maintainability:-\n",
    "    -encapsulation reduces the complexity by hiding the internal details of a class from the outside world.\n",
    "    - this simplifies the interface and makes it easier to work with.\n",
    "    -modifications to the internal implemention of a class can be done wihtout affecting the code that uses the code,\n",
    "    as long as the internal remains same.\n",
    "2.security:-\n",
    "-encapsulatoin provides a level of security by preventing direct access to the internal state of an object from the outside class.\n",
    "-this helps avoid  accidential misuse and modification of data.\n",
    "-name mangling adds an additonal layer of protecton by making it more difficult for external code to access private attributes."
   ]
  },
  {
   "cell_type": "code",
   "execution_count": 12,
   "id": "2169351c",
   "metadata": {},
   "outputs": [
    {
     "name": "stdout",
     "output_type": "stream",
     "text": [
      "345\n"
     ]
    }
   ],
   "source": [
    "#10. How can you access private attributes in Python? Provide an example demonstrating the use of name mangling.\n",
    "class MyClass:\n",
    "    def __init__(self):\n",
    "        self.__private_attribute = 345\n",
    "obj = MyClass()\n",
    "print(obj._MyClass__private_attribute) "
   ]
  },
  {
   "cell_type": "code",
   "execution_count": 16,
   "id": "2c244432",
   "metadata": {},
   "outputs": [
    {
     "name": "stdout",
     "output_type": "stream",
     "text": [
      "Student: Alice Smith, Age: 20, Student ID: S12345\n",
      "Student Alice Smith enrolled in Mathematics\n",
      "Teacher Professor Johnson assigned to teach Mathematics\n",
      "Enrolled Courses: [<__main__.Course object at 0x0000024DA196B460>]\n"
     ]
    }
   ],
   "source": [
    "#11. Create a Python class hierarchy for a school system, including classes for students, teachers, and courses, \n",
    "#and implement encapsulation principles to protect sensitive information.\n",
    "class Person:\n",
    "    def __init__(self, name, age):\n",
    "        self.__name = name\n",
    "        self.__age = age\n",
    "    def get_name(self):\n",
    "        return self.__name\n",
    "    def get_age(self):\n",
    "        return self.__age \n",
    "class Student(Person):\n",
    "    def __init__(self, name, age, student_id):\n",
    "        super().__init__(name, age)\n",
    "        self.__student_id = student_id\n",
    "        self.__courses = []  \n",
    "    def get_student_id(self):\n",
    "        return self.__student_id\n",
    "    def enroll_course(self, course):\n",
    "        self.__courses.append(course)\n",
    "        print(f\"Student {self.get_name()} enrolled in {course.get_course_name()}\")\n",
    "    def get_enrolled_courses(self):\n",
    "        return self.__courses\n",
    "class Teacher(Person):\n",
    "    def __init__(self, name, age, employee_id):\n",
    "        super().__init__(name, age)\n",
    "        self.__employee_id = employee_id\n",
    "        self.__courses_taught = [] \n",
    "    def get_employee_id(self):\n",
    "        return self.__employee_id\n",
    "    def assign_course(self, course):\n",
    "        self.__courses_taught.append(course)\n",
    "        print(f\"Teacher {self.get_name()} assigned to teach {course.get_course_name()}\")\n",
    "    def get_assigned_courses(self):\n",
    "        return self.__courses_taught\n",
    "class Course:\n",
    "    def __init__(self, course_name, course_code):\n",
    "        self.__course_name = course_name\n",
    "        self.__course_code = course_code\n",
    "    def get_course_name(self):\n",
    "        return self.__course_name\n",
    "    def get_course_code(self):\n",
    "        return self.__course_code\n",
    "person = Person(\"John Doe\", 35)\n",
    "student = Student(\"Alice Smith\", 20, \"S12345\")\n",
    "teacher = Teacher(\"Professor Johnson\", 45, \"T98765\")\n",
    "course_math = Course(\"Mathematics\", \"MATH101\")\n",
    "print(f\"Student: {student.get_name()}, Age: {student.get_age()}, Student ID: {student.get_student_id()}\")\n",
    "student.enroll_course(course_math)\n",
    "teacher.assign_course(course_math)\n",
    "print(f\"Enrolled Courses: {student.get_enrolled_courses()}\")"
   ]
  },
  {
   "cell_type": "code",
   "execution_count": null,
   "id": "851b10f0",
   "metadata": {},
   "outputs": [],
   "source": [
    "#12. Explain the concept of property decorators in Python and how they relate to encapsulation.\n",
    "property decorators features that are allows to define special methods,better,setter and deleters, for a class attributes.\n",
    "1.Getter:-\n",
    "    - the @property decorator is used to define a getter method.this method is called when you try to access the value of the attributes.\n",
    "    -it allows to customize the behavior of the attribute retrieval without explicitly calling a method.\n",
    "2.setter:-\n",
    "    -the @my_attribute_name.setter decorator is used to define a setter method.this method is called when you try to access the value of the attribute.\n",
    "    - it allows to customize the behavior of the attribute assignment.\n",
    "3.deleter:-\n",
    "    -the @my_attribute_name.delete decorator is used to define a seleter method.this method is called when you try to delete the attributes using the 'del' statement.\n",
    "    -it allows to customize the behavior of the attribute assignment.\n"
   ]
  },
  {
   "cell_type": "code",
   "execution_count": 18,
   "id": "592b12a8",
   "metadata": {},
   "outputs": [],
   "source": [
    "#getter method\n",
    "class MyClass:\n",
    "    def __init__(self):\n",
    "        self._my_private_variable = 36\n",
    "    @property\n",
    "    def my_private_variable(self):\n",
    "        return self._my_private_variable"
   ]
  },
  {
   "cell_type": "code",
   "execution_count": 19,
   "id": "6e1fe705",
   "metadata": {},
   "outputs": [],
   "source": [
    "#setter method\n",
    "class MyClass:\n",
    "    def __init__(self):\n",
    "        self._my_private_variable = 56\n",
    "    @property\n",
    "    def my_private_variable(self):\n",
    "        return self._my_private_variable\n",
    "    @my_private_variable.setter\n",
    "    def my_private_variable(self, value):\n",
    "        if value >= 0:\n",
    "            self._my_private_variable = value\n",
    "        else:\n",
    "            print(\"Invalid value. Must be greater than or equal to 0.\")"
   ]
  },
  {
   "cell_type": "code",
   "execution_count": 20,
   "id": "c1809192",
   "metadata": {},
   "outputs": [],
   "source": [
    "#deleter method\n",
    "class MyClass:\n",
    "    def __init__(self):\n",
    "        self._my_private_variable = 78\n",
    "    @property\n",
    "    def my_private_variable(self):\n",
    "        return self._my_private_variable\n",
    "    @my_private_variable.setter\n",
    "    def my_private_variable(self, value):\n",
    "        if value >= 0:\n",
    "            self._my_private_variable = value\n",
    "        else:\n",
    "            print(\"Invalid value. Must be greater than or equal to 0.\")\n",
    "    @my_private_variable.deleter\n",
    "    def my_private_variable(self):\n",
    "        print(\"Deleting my_private_variable\")\n",
    "        del self._my_private_variable"
   ]
  },
  {
   "cell_type": "code",
   "execution_count": null,
   "id": "e8ffb6b6",
   "metadata": {},
   "outputs": [],
   "source": [
    "#13. What is data hiding, and why is it important in encapsulation? Provide examples.\n",
    "Data hiding is a concept in computer science and object-oriented programming that refers to the practice of hiding \n",
    "the implementation details of a class and exposing only what is necessary for the outside world to interact with the class. \n",
    "importance of the data hiding in encapsulatoin:\n",
    "    1.abstraction.\n",
    "    2.security\n",
    "    3.flexibility and matainance\n",
    "    4.reduced complexity\n",
    "    "
   ]
  },
  {
   "cell_type": "code",
   "execution_count": 1,
   "id": "76c65408",
   "metadata": {},
   "outputs": [
    {
     "name": "stdout",
     "output_type": "stream",
     "text": [
      "1000\n",
      "500\n",
      "1000\n",
      "500\n"
     ]
    }
   ],
   "source": [
    "class BankAccountWithoutEncapsulation:\n",
    "    def __init__(self, balance):\n",
    "        self.balance = balance\n",
    "    def withdraw(self, amount):\n",
    "        self.balance -= amount\n",
    "account = BankAccountWithoutEncapsulation(1000)\n",
    "print(account.balance)  \n",
    "account.balance = 500   \n",
    "print(account.balance) \n",
    "class BankAccountWithEncapsulation:\n",
    "    def __init__(self, balance):\n",
    "        self._balance = balance  \n",
    "    def withdraw(self, amount):\n",
    "        self._balance -= amount\n",
    "    def get_balance(self):\n",
    "        return self._balance\n",
    "account = BankAccountWithEncapsulation(1000)\n",
    "print(account.get_balance()) \n",
    "account._balance = 500      \n",
    "print(account.get_balance())  "
   ]
  },
  {
   "cell_type": "code",
   "execution_count": 2,
   "id": "ed95bfa1",
   "metadata": {},
   "outputs": [
    {
     "name": "stdout",
     "output_type": "stream",
     "text": [
      "Employee ID: 101\n",
      "Salary: 50000\n",
      "Yearly Bonus: $5000.0\n"
     ]
    }
   ],
   "source": [
    "#14. Create a Python class called `Employee` with private attributes for salary (`__salary`) and employee ID (`__employee_id`). Provide a method to calculate.\n",
    "class Employee:\n",
    "    def __init__(self, employee_id, salary):\n",
    "        self.__employee_id = employee_id\n",
    "        self.__salary = salary\n",
    "    def calculate_yearly_bonus(self, bonus_percentage):\n",
    "        bonus_amount = (bonus_percentage / 100) * self.__salary\n",
    "        return bonus_amount\n",
    "    def get_employee_id(self):\n",
    "        return self.__employee_id\n",
    "    def get_salary(self):\n",
    "        return self.__salary\n",
    "employee1 = Employee(employee_id=101, salary=50000)\n",
    "print(\"Employee ID:\", employee1.get_employee_id())\n",
    "print(\"Salary:\", employee1.get_salary())\n",
    "bonus_percentage = 10  \n",
    "yearly_bonus = employee1.calculate_yearly_bonus(bonus_percentage)\n",
    "print(f\"Yearly Bonus: ${yearly_bonus}\")"
   ]
  },
  {
   "cell_type": "code",
   "execution_count": null,
   "id": "c3fac9d0",
   "metadata": {},
   "outputs": [],
   "source": [
    "#15. Discuss the use of accessors and mutators in encapsulation. How do they help maintain control over attribute access?\n",
    "1.accessor:-\n",
    "    -accessors are the methods used to retrieve the values of private or protected attributes.\n",
    "    accessors have names like \"get_attributes\" where attributes is the name of the attribute being accessed."
   ]
  },
  {
   "cell_type": "code",
   "execution_count": 3,
   "id": "4ac1d7af",
   "metadata": {},
   "outputs": [],
   "source": [
    "class person:\n",
    "    def __init__(self,name):\n",
    "        self.__name = name\n",
    "    def get_name(self):\n",
    "        return self.__name"
   ]
  },
  {
   "cell_type": "code",
   "execution_count": null,
   "id": "5b0a91ae",
   "metadata": {},
   "outputs": [],
   "source": [
    "2.mutator:-\n",
    "    -mutators are the methods are used to modified the values of private or aprotected attributes.\n",
    "    -mutators have names like 'get_Attributes(value)' where 'attributes' is the name of the attribute being accessed."
   ]
  },
  {
   "cell_type": "code",
   "execution_count": 4,
   "id": "266c59d4",
   "metadata": {},
   "outputs": [],
   "source": [
    "class BankAccount:\n",
    "    def __init__(self, balance):\n",
    "        self.__balance = balance\n",
    "\n",
    "    def set_balance(self, new_balance):\n",
    "        if new_balance >= 0:\n",
    "            self.__balance = new_balance\n",
    "        else:\n",
    "            print(\"Invalid balance. Balance cannot be negative.\")"
   ]
  },
  {
   "cell_type": "code",
   "execution_count": null,
   "id": "37d4f9a4",
   "metadata": {},
   "outputs": [],
   "source": [
    "#16. What are the potential drawbacks or disadvantages of using encapsulation in Python.\n",
    "-disadvantages of the encapsulation:-\n",
    "    1.overhead and complexity\n",
    "    2.performance impact.\n",
    "    3.limited enforcement of privacy.\n",
    "    4.verbosity.\n",
    "    5.violation of pythonic idioms.\n",
    "    6.limited usefulness in some cases\n",
    "    7.increased development time\n",
    "    8.resistence to change."
   ]
  },
  {
   "cell_type": "code",
   "execution_count": 5,
   "id": "f2c8055c",
   "metadata": {},
   "outputs": [
    {
     "name": "stdout",
     "output_type": "stream",
     "text": [
      "Book 1:\n",
      "Title: The Catcher in the Rye\n",
      "Author: J.D. Salinger\n",
      "Available: True\n",
      "Book 'The Catcher in the Rye' by J.D. Salinger has been checked out.\n",
      "Sorry, the book 'The Catcher in the Rye' is currently not available.\n",
      "Book 'The Catcher in the Rye' has been returned. Thank you!\n",
      "Book 'The Catcher in the Rye' by J.D. Salinger has been checked out.\n"
     ]
    }
   ],
   "source": [
    "#17. Create a Python class for a library system that encapsulates book information, including titles, authors, and availability status.\n",
    "class LibraryBook:\n",
    "    def __init__(self, title, author, available=True):\n",
    "        self.__title = title\n",
    "        self.__author = author\n",
    "        self.__available = available\n",
    "    def get_title(self):\n",
    "        return self.__title\n",
    "    def get_author(self):\n",
    "        return self.__author\n",
    "    def is_available(self):\n",
    "        return self.__available\n",
    "    def check_out(self):\n",
    "        if self.__available:\n",
    "            print(f\"Book '{self.__title}' by {self.__author} has been checked out.\")\n",
    "            self.__available = False\n",
    "        else:\n",
    "            print(f\"Sorry, the book '{self.__title}' is currently not available.\")\n",
    "    def return_book(self):\n",
    "        if not self.__available:\n",
    "            print(f\"Book '{self.__title}' has been returned. Thank you!\")\n",
    "            self.__available = True\n",
    "        else:\n",
    "            print(f\"Error: Book '{self.__title}' is already available in the library.\")\n",
    "book1 = LibraryBook(\"The Catcher in the Rye\", \"J.D. Salinger\")\n",
    "book2 = LibraryBook(\"To Kill a Mockingbird\", \"Harper Lee\")\n",
    "print(\"Book 1:\")\n",
    "print(\"Title:\", book1.get_title())\n",
    "print(\"Author:\", book1.get_author())\n",
    "print(\"Available:\", book1.is_available())\n",
    "book1.check_out()\n",
    "book1.check_out()\n",
    "book1.return_book()\n",
    "book1.check_out()\n"
   ]
  },
  {
   "cell_type": "code",
   "execution_count": null,
   "id": "4f5a8321",
   "metadata": {},
   "outputs": [],
   "source": [
    "#18. Explain how encapsulation enhances code reusability and modularity in Python programs.\n",
    "\n",
    "Encapsulation plays a crucial role in enhancing both code reusability and modularity in Python programs. Here's how:\n",
    "\n",
    "Reusability:\n",
    "    \n",
    "Bundled functionality: Encapsulation bundles related data and methods together within a class, creating a self-contained\n",
    "unit. This makes it easy to reuse the entire functionality of the class in different parts of the program without duplicating code.\n",
    "Protected implementation details: By hiding internal data and methods with access modifiers like private,\n",
    "encapsulation prevents accidental modification and ensures consistent behavior. This improves code reliability and allows \n",
    "for easy replacement of internal implementations without affecting external usage.\n",
    "Clear interface: Encapsulation encourages defining a well-defined public interface for accessing class functionality through\n",
    "methods. This makes it clear how to interact with the class, improving code readability and reusability across different contexts.\n",
    "\n",
    "Modularity:\n",
    "    \n",
    "Organized codebase: Encapsulation groups related functionalities into classes, promoting a modular structure in the codebase.\n",
    "This makes the program easier to understand, navigate, and maintain.\n",
    "Loose coupling: Classes with strong encapsulation are loosely coupled, meaning changes within one class have minimal\n",
    "impact on others. This improves code flexibility and allows for independent development and testing of individual modules.\n",
    "Scalability: Encapsulated classes can be easily extended or modified without affecting unrelated parts of the program. \n",
    "This makes the codebase more adaptable and scalable as the program grows.\n"
   ]
  },
  {
   "cell_type": "code",
   "execution_count": 6,
   "id": "06b9efdd",
   "metadata": {},
   "outputs": [
    {
     "name": "stdout",
     "output_type": "stream",
     "text": [
      "Current value of counter1: 11\n",
      "Current value of counter2: -1\n"
     ]
    }
   ],
   "source": [
    "class Counter:\n",
    "    def __init__(self, initial_value=0):\n",
    "        self._count = initial_value  \n",
    "    def increment(self):\n",
    "        self._count += 1\n",
    "    def decrement(self):\n",
    "        self._count -= 1\n",
    "    def get_current_value(self):\n",
    "        return self._count\n",
    "counter1 = Counter(10)\n",
    "counter1.increment()\n",
    "print(f\"Current value of counter1: {counter1.get_current_value()}\")\n",
    "counter2 = Counter()\n",
    "counter2.decrement()\n",
    "print(f\"Current value of counter2: {counter2.get_current_value()}\")"
   ]
  },
  {
   "cell_type": "code",
   "execution_count": null,
   "id": "a18740ea",
   "metadata": {},
   "outputs": [],
   "source": [
    "#19. Describe the concept of information hiding in encapsulation. Why is it essential in software development?\n",
    "information hiding is essential in software development because it contributes to security, modularity, flexibility,\n",
    "reduced complexity, and easier maintenance. It aligns with the principles of encapsulation, helping create robust,\n",
    "maintainable, and secure software systems."
   ]
  },
  {
   "cell_type": "code",
   "execution_count": 7,
   "id": "5f41316d",
   "metadata": {},
   "outputs": [
    {
     "name": "stdout",
     "output_type": "stream",
     "text": [
      "Book 1:\n",
      "Title: The Catcher in the Rye\n",
      "Author: J.D. Salinger\n",
      "Available: True\n",
      "Book 'The Catcher in the Rye' by J.D. Salinger has been checked out.\n",
      "Book 'The Catcher in the Rye' has been returned. Thank you!\n"
     ]
    }
   ],
   "source": [
    "class LibraryBook:\n",
    "    def __init__(self, title, author, available=True):\n",
    "        self.__title = title\n",
    "        self.__author = author\n",
    "        self.__available = available\n",
    "    def get_title(self):\n",
    "        return self.__title\n",
    "    def get_author(self):\n",
    "        return self.__author\n",
    "    def is_available(self):\n",
    "        return self.__available\n",
    "    def check_out(self):\n",
    "        if self.__available:\n",
    "            print(f\"Book '{self.__title}' by {self.__author} has been checked out.\")\n",
    "            self.__available = False\n",
    "        else:\n",
    "            print(f\"Sorry, the book '{self.__title}' is currently not available.\")\n",
    "    def return_book(self):\n",
    "        if not self.__available:\n",
    "            print(f\"Book '{self.__title}' has been returned. Thank you!\")\n",
    "            self.__available = True\n",
    "        else:\n",
    "            print(f\"Error: Book '{self.__title}' is already available in the library.\")\n",
    "book1 = LibraryBook(\"The Catcher in the Rye\", \"J.D. Salinger\")\n",
    "print(\"Book 1:\")\n",
    "print(\"Title:\", book1.get_title())\n",
    "print(\"Author:\", book1.get_author())\n",
    "print(\"Available:\", book1.is_available())\n",
    "book1.check_out()\n",
    "book1.return_book()\n"
   ]
  },
  {
   "cell_type": "code",
   "execution_count": 9,
   "id": "68d278e9",
   "metadata": {},
   "outputs": [
    {
     "name": "stdout",
     "output_type": "stream",
     "text": [
      "Customer 1:\n",
      "Name: John Doe\n",
      "Address: 123 Main St\n",
      "Contact Info: john@example.com\n",
      "Address updated successfully.\n",
      "Contact information updated successfully.\n",
      "Updated Address: 456 Oak Ave\n",
      "Updated Contact Info: john.doe@gmail.com\n"
     ]
    }
   ],
   "source": [
    "#20. Create a Python class called `Customer` with private attributes for customer details like name, address, \n",
    "#and contact information. Implement encapsulation to ensure data integrity and security.\n",
    "class Customer:\n",
    "    def __init__(self, name, address, contact_info):\n",
    "        self.__name = name\n",
    "        self.__address = address\n",
    "        self.__contact_info = contact_info\n",
    "    def get_name(self):\n",
    "        return self.__name\n",
    "    def get_address(self):\n",
    "        return self.__address\n",
    "    def get_contact_info(self):\n",
    "        return self.__contact_info\n",
    "    def update_address(self, new_address):\n",
    "        self.__address = new_address\n",
    "        print(\"Address updated successfully.\")\n",
    "    def update_contact_info(self, new_contact_info):\n",
    "        self.__contact_info = new_contact_info\n",
    "        print(\"Contact information updated successfully.\")\n",
    "customer1 = Customer(name=\"John Doe\", address=\"123 Main St\", contact_info=\"john@example.com\")\n",
    "print(\"Customer 1:\")\n",
    "print(\"Name:\", customer1.get_name())\n",
    "print(\"Address:\", customer1.get_address())\n",
    "print(\"Contact Info:\", customer1.get_contact_info())\n",
    "customer1.update_address(\"456 Oak Ave\")\n",
    "customer1.update_contact_info(\"john.doe@gmail.com\")\n",
    "print(\"Updated Address:\", customer1.get_address())\n",
    "print(\"Updated Contact Info:\", customer1.get_contact_info())\n"
   ]
  },
  {
   "cell_type": "markdown",
   "id": "0dd4d189",
   "metadata": {},
   "source": [
    "# Polymorphism:"
   ]
  },
  {
   "cell_type": "code",
   "execution_count": null,
   "id": "3d8f231f",
   "metadata": {},
   "outputs": [],
   "source": [
    "#1. What is polymorphism in Python? Explain how it is related to object-oriented programming.\n",
    "polymorphism is an object can do different characters.it means doing many forms.there are two types of polymorphisms.\n",
    "they are 1.compiletime polymorphism 2. runtime polymorphism "
   ]
  },
  {
   "cell_type": "code",
   "execution_count": 3,
   "id": "24c59e02",
   "metadata": {},
   "outputs": [],
   "source": [
    "#compiletime polymorphism\n",
    "def example_function(arg1, arg2=0, *args):\n",
    "    return 0\n",
    "   "
   ]
  },
  {
   "cell_type": "code",
   "execution_count": 5,
   "id": "8758c20c",
   "metadata": {},
   "outputs": [
    {
     "name": "stdout",
     "output_type": "stream",
     "text": [
      "Woof!\n",
      "Meow!\n"
     ]
    }
   ],
   "source": [
    "#runtime polymorphism\n",
    "class Animal:\n",
    "    def make_sound(self):\n",
    "        pass\n",
    "class Dog(Animal):\n",
    "    def make_sound(self):\n",
    "        print(\"Woof!\")\n",
    "class Cat(Animal):\n",
    "    def make_sound(self):\n",
    "        print(\"Meow!\")\n",
    "dog = Dog()\n",
    "cat = Cat()\n",
    "animals = [dog, cat]\n",
    "for animal in animals:\n",
    "    animal.make_sound()"
   ]
  },
  {
   "cell_type": "code",
   "execution_count": null,
   "id": "39f5cc1f",
   "metadata": {},
   "outputs": [],
   "source": [
    "#2. Describe the difference between compile-time polymorphism and runtime polymorphism in Python.\n",
    "1.compiletime polymorphism:-\n",
    "    -compiletime polymorphism is also know as overloading polymorphism.\n",
    "    -It is a statical type programming language.\n",
    "    -compiletype polymorphism often refers to the ability to have multiple methods with the same name but different paramters\n",
    "    types or numbers.\n",
    "    -the compiler determines which method to call based on the method signature at compiletime.\n",
    "    -while the python does not support the overloading method in the traditional senses,we can achieve a form of it using \n",
    "    default arguments and variable length arguments list.\n",
    "2.runtime polymorphism:-\n",
    "    -runtime polymorphism is also known as overriding polymorphism.\n",
    "    -it is a dynamically typed programming languages.\n",
    "    -runtime polymorphism is more closely associated with metod overriding,where a method in a subclass has the same name and\n",
    "    parameters as a methods in its superclass.the actual method that gets calledis determined at runtime based on the type of the object.\n",
    "    -when a subclass provides a method with the same name as a method in its superclass, the subclass method overrides the superclass method."
   ]
  },
  {
   "cell_type": "code",
   "execution_count": 7,
   "id": "960c1fa6",
   "metadata": {},
   "outputs": [
    {
     "name": "stdout",
     "output_type": "stream",
     "text": [
      "area of circle:78.53981633974483\n",
      "area of square:36\n",
      "area of triangle:9.0\n"
     ]
    }
   ],
   "source": [
    "#3. Create a Python class hierarchy for shapes (e.g., circle, square, triangle) and demonstrate polymorphism through a common method, such as `calculate_area()`\n",
    "import math\n",
    "class shape:\n",
    "    def calculate_area(self):\n",
    "        pass\n",
    "class circle(shape):\n",
    "    def __init__(self,radius):\n",
    "        self.radius = radius\n",
    "    def calculate_area(self):\n",
    "        return math.pi * self.radius ** 2\n",
    "class triangle(shape):\n",
    "    def __init__(self,width,height):\n",
    "        self.width = width\n",
    "        self.height = height\n",
    "    def calculate_area(self):\n",
    "        return 0.5 * self.width *self.height\n",
    "class square(shape):\n",
    "    def __init__(self,side_length):\n",
    "        self.side_length = side_length\n",
    "    def calculate_area(self):\n",
    "        return self.side_length**2\n",
    "shapes=[circle(5),square(6),triangle(3,6)]\n",
    "for shape in shapes:\n",
    "    print(f\"area of {shape.__class__.__name__}:{shape.calculate_area()}\")\n"
   ]
  },
  {
   "cell_type": "code",
   "execution_count": null,
   "id": "66c30ac1",
   "metadata": {},
   "outputs": [],
   "source": [
    "#4. Explain the concept of method overriding in polymorphism. Provide an example.\n",
    "-method overriding is also known as runtime polymorphism.\n",
    "-The method in the subclass must have the same signature (name, return type, and parameters) as the method in the superclass.\n",
    "-The overridden method in the subclass provides a specific implementation that is different from the superclass's implementation.\n",
    "-When an object of the subclass is used in a context where an object of the superclass is expected,\n",
    "the overridden method in the subclass is called at runtime.\n"
   ]
  },
  {
   "cell_type": "code",
   "execution_count": 8,
   "id": "59cc33a4",
   "metadata": {},
   "outputs": [
    {
     "name": "stdout",
     "output_type": "stream",
     "text": [
      "Woof!\n",
      "Meow!\n"
     ]
    }
   ],
   "source": [
    "class Animal:\n",
    "    def make_sound(self):\n",
    "        return \"Generic animal sound\"\n",
    "class Dog(Animal):\n",
    "    def make_sound(self):\n",
    "        return \"Woof!\"\n",
    "class Cat(Animal):\n",
    "    def make_sound(self):\n",
    "        return \"Meow!\"\n",
    "dog = Dog()\n",
    "cat = Cat()\n",
    "print(dog.make_sound())  \n",
    "print(cat.make_sound())  "
   ]
  },
  {
   "cell_type": "code",
   "execution_count": null,
   "id": "b6107cac",
   "metadata": {},
   "outputs": [],
   "source": [
    "#5. How is polymorphism different from method overloading in Python? Provide examples for both.\n",
    "1.method overriding in python:-\n",
    "    -method overriding polymorphism is also known as runtime polymorphism.\n",
    "    -it is a dynamically typed programming languages.\n",
    "    -runtime polymorphism is more closely associated with metod overriding,where a method in a subclass has the same name and\n",
    "    parameters as a methods in its superclass.the actual method that gets calledis determined at runtime based on the type of the object.\n",
    "    -when a subclass provides a method with the same name as a method in its superclass, the subclass method overrides the superclass method."
   ]
  },
  {
   "cell_type": "code",
   "execution_count": 9,
   "id": "e822ed22",
   "metadata": {},
   "outputs": [
    {
     "name": "stdout",
     "output_type": "stream",
     "text": [
      "Woof!\n",
      "Meow!\n"
     ]
    }
   ],
   "source": [
    "class Animal:\n",
    "    def make_sound(self):\n",
    "        return \"Generic animal sound\"\n",
    "class Dog(Animal):\n",
    "    def make_sound(self):\n",
    "        return \"Woof!\"\n",
    "class Cat(Animal):\n",
    "    def make_sound(self):\n",
    "        return \"Meow!\"\n",
    "dog = Dog()\n",
    "cat = Cat()\n",
    "print(dog.make_sound())  \n",
    "print(cat.make_sound())  "
   ]
  },
  {
   "cell_type": "code",
   "execution_count": null,
   "id": "03f38da4",
   "metadata": {},
   "outputs": [],
   "source": [
    "2.method overloading in polymorphism:-\n",
    "    -method overloading polymorphism is also know as compiletime polymorphism.\n",
    "    -It is a statical type programming language.\n",
    "    -compiletype polymorphism often refers to the ability to have multiple methods with the same name but different paramters\n",
    "    types or numbers.\n",
    "    -the compiler determines which method to call based on the method signature at compiletime.\n",
    "    -while the python does not support the overloading method in the traditional senses,we can achieve a form of it using \n",
    "    default arguments and variable length arguments list."
   ]
  },
  {
   "cell_type": "code",
   "execution_count": 10,
   "id": "66aceee9",
   "metadata": {},
   "outputs": [
    {
     "name": "stdout",
     "output_type": "stream",
     "text": [
      "1\n",
      "3\n",
      "6\n"
     ]
    }
   ],
   "source": [
    "class MathOperations:\n",
    "    def add(self, a, b=0, c=0):\n",
    "        return a + b + c\n",
    "math_ops = MathOperations()\n",
    "print(math_ops.add(1))          \n",
    "print(math_ops.add(1, 2))      \n",
    "print(math_ops.add(1, 2, 3))    \n"
   ]
  },
  {
   "cell_type": "code",
   "execution_count": 14,
   "id": "9366fa1c",
   "metadata": {},
   "outputs": [
    {
     "name": "stdout",
     "output_type": "stream",
     "text": [
      "dogspwaks barks\n",
      "cat speaks meows\n",
      "tweet!\n"
     ]
    }
   ],
   "source": [
    "#6. Create a Python class called `Animal` with a method `speak()`. Then, create child classes like `Dog`, `Cat`, and `Bird`,\n",
    "#each with their own `speak()` method. Demonstrate polymorphism by calling the `speak()` method \n",
    "#on objects of different subclasses.\n",
    "class animal:\n",
    "    def speak(self):\n",
    "        return \"generic animal sound\"\n",
    "class dog(animal):\n",
    "    def speak(self):\n",
    "        return \"dogspwaks barks\"\n",
    "class cat(animal):\n",
    "    def speak(self):\n",
    "        return  \"cat speaks meows\"\n",
    "class bird(animal):\n",
    "    def speak(self):\n",
    "        return \"tweet!\"\n",
    "def animal_speak(animal):\n",
    "    return animal.speak()\n",
    "dog = dog()\n",
    "cat = cat()\n",
    "bird = bird()\n",
    "print(animal_speak(dog))\n",
    "print(animal_speak(cat))\n",
    "print(animal_speak(bird))\n",
    "    "
   ]
  },
  {
   "cell_type": "code",
   "execution_count": 16,
   "id": "778e81cc",
   "metadata": {},
   "outputs": [
    {
     "name": "stdout",
     "output_type": "stream",
     "text": [
      "area of circle:78.53981633974483\n",
      "area of square:36\n",
      "area of triangle:9.0\n"
     ]
    }
   ],
   "source": [
    "#7. Discuss the use of abstract methods and classes in achieving polymorphism in Python. Provide an example using the `abc` module.\n",
    "from abc import ABC\n",
    "import math\n",
    "class shape(ABC):\n",
    "    def calculate_area(self):\n",
    "        pass\n",
    "class circle(shape):\n",
    "    def __init__(self,radius):\n",
    "        self.radius = radius\n",
    "    def calculate_area(self):\n",
    "        return math.pi * self.radius ** 2\n",
    "class triangle(shape):\n",
    "    def __init__(self,width,height):\n",
    "        self.width = width\n",
    "        self.height = height\n",
    "    def calculate_area(self):\n",
    "        return 0.5 * self.width *self.height\n",
    "class square(shape):\n",
    "    def __init__(self,side_length):\n",
    "        self.side_length = side_length\n",
    "    def calculate_area(self):\n",
    "        return self.side_length**2\n",
    "shapes=[circle(5),square(6),triangle(3,6)]\n",
    "for shape in shapes:\n",
    "    print(f\"area of {shape.__class__.__name__}:{shape.calculate_area()}\")"
   ]
  },
  {
   "cell_type": "code",
   "execution_count": 17,
   "id": "b3c64765",
   "metadata": {},
   "outputs": [
    {
     "name": "stdout",
     "output_type": "stream",
     "text": [
      "The Toyota Camry is starting the engine.\n",
      "The Trek Mountain Bike is ready to pedal.\n",
      "The Yamaha Speedboat is starting the motor for sailing.\n"
     ]
    }
   ],
   "source": [
    "#8. Create a Python class hierarchy for a vehicle system (e.g., car, bicycle, boat) and implement a polymorphic `start()` method that prints a message specific to each vehicle type.\n",
    "class Vehicle:\n",
    "    def __init__(self, brand, model):\n",
    "        self.brand = brand\n",
    "        self.model = model\n",
    "    def start(self):\n",
    "        raise NotImplementedError(\"Subclasses must implement the start() method\")\n",
    "class Car(Vehicle):\n",
    "    def start(self):\n",
    "        return f\"The {self.brand} {self.model} is starting the engine.\"\n",
    "class Bicycle(Vehicle):\n",
    "    def start(self):\n",
    "        return f\"The {self.brand} {self.model} is ready to pedal.\"\n",
    "class Boat(Vehicle):\n",
    "    def start(self):\n",
    "        return f\"The {self.brand} {self.model} is starting the motor for sailing.\"\n",
    "vehicles = [Car(\"Toyota\", \"Camry\"), Bicycle(\"Trek\", \"Mountain Bike\"), Boat(\"Yamaha\", \"Speedboat\")]\n",
    "for vehicle in vehicles:\n",
    "    print(vehicle.start())\n"
   ]
  },
  {
   "cell_type": "code",
   "execution_count": null,
   "id": "38849529",
   "metadata": {},
   "outputs": [],
   "source": [
    "#9. Explain the significance of the `isinstance()` and `issubclass()` functions in Python polymorphism.\n",
    "1.isinstance function:-\n",
    "-The isinstance() function is used to check if an object is an instance of a particular class or a tuple of classes. \n",
    "-It returns True if the object is an instance of any of the specified classes and False otherwise."
   ]
  },
  {
   "cell_type": "code",
   "execution_count": 18,
   "id": "69ccdb29",
   "metadata": {},
   "outputs": [
    {
     "name": "stdout",
     "output_type": "stream",
     "text": [
      "True\n",
      "True\n",
      "False\n"
     ]
    }
   ],
   "source": [
    "class Animal:\n",
    "    pass\n",
    "class Dog(Animal):\n",
    "    pass\n",
    "my_dog = Dog()\n",
    "print(isinstance(my_dog, Dog))     \n",
    "print(isinstance(my_dog, Animal))   \n",
    "print(isinstance(my_dog, (int, str))) \n"
   ]
  },
  {
   "cell_type": "code",
   "execution_count": null,
   "id": "c4f30ca4",
   "metadata": {},
   "outputs": [],
   "source": [
    "2.issubclass()\n",
    "-The issubclass() function checks whether a class is a subclass of another class.\n",
    "-It returns True if the first class is a subclass of the second class; otherwise, it returns False.\n",
    "-issubclass() is useful for checking class relationships and ensuring that a particular class adheres to an expected \n",
    "inheritance hierarchy."
   ]
  },
  {
   "cell_type": "code",
   "execution_count": 19,
   "id": "1e7548d8",
   "metadata": {},
   "outputs": [
    {
     "name": "stdout",
     "output_type": "stream",
     "text": [
      "True\n"
     ]
    }
   ],
   "source": [
    "class Animal:\n",
    "    pass\n",
    "class Dog(Animal):\n",
    "    pass\n",
    "print(issubclass(Dog, Animal)) "
   ]
  },
  {
   "cell_type": "code",
   "execution_count": null,
   "id": "dfcdc26a",
   "metadata": {},
   "outputs": [],
   "source": [
    "#10. What is the role of the `@abstractmethod` decorator in achieving polymorphism in Python? Provide an example.\n",
    "The @abstractmethod decorator is used in Python in conjunction with the Abstract Base Classes module to declare abstract \n",
    "methods within abstract classes. Abstract methods are methods that must be implemented by any concrete (non-abstract)\n",
    "subclass. The use of abstract methods helps enforce a common interface among classes, ensuring that they provide specific \n",
    "functionalities. This concept is crucial for achieving polymorphism."
   ]
  },
  {
   "cell_type": "code",
   "execution_count": 26,
   "id": "46952af6",
   "metadata": {},
   "outputs": [
    {
     "name": "stdout",
     "output_type": "stream",
     "text": [
      "area of circle:78.53981633974483\n",
      "area of square:36\n",
      "area of triangle:12.0\n"
     ]
    }
   ],
   "source": [
    "from abc import ABC,abstractmethod\n",
    "import math\n",
    "class shape(ABC):\n",
    "    def calculate_area(self):\n",
    "        pass\n",
    "class circle(shape):\n",
    "    def __init__(self,radius):\n",
    "        self.radius = radius\n",
    "    def calculate_area(self):\n",
    "        return math.pi * self.radius ** 2\n",
    "class triangle(shape):\n",
    "    def __init__(self,width,height):\n",
    "        self.width = width\n",
    "        self.height = height\n",
    "    def calculate_area(self):\n",
    "        return 0.5 * self.width *self.height\n",
    "class square(shape):\n",
    "    def __init__(self,side_length):\n",
    "        self.side_length = side_length\n",
    "    def calculate_area(self):\n",
    "        return self.side_length**2\n",
    "shapes=[circle(5),square(6),triangle(3,8)]\n",
    "for shape in shapes:\n",
    "    print(f\"area of {shape.__class__.__name__}:{shape.calculate_area()}\")"
   ]
  },
  {
   "cell_type": "code",
   "execution_count": 30,
   "id": "67811c3b",
   "metadata": {},
   "outputs": [
    {
     "name": "stdout",
     "output_type": "stream",
     "text": [
      "Area of Circle: 78.5\n",
      "Area of Rectangle: 48\n",
      "Area of Triangle: 12.0\n"
     ]
    }
   ],
   "source": [
    "#11. Create a Python class called `Shape` with a polymorphic method `area()` that calculates the area of different shapes (e.g., circle, rectangle, triangle).\n",
    "class Shape:\n",
    "    def calculate_area(self):\n",
    "        pass\n",
    "class Circle(Shape):\n",
    "    def __init__(self, radius):\n",
    "        self.radius = radius\n",
    "    def calculate_area(self):\n",
    "        return 3.14 * self.radius ** 2\n",
    "class Rectangle(Shape):\n",
    "    def __init__(self, width, length):\n",
    "        self.width = width\n",
    "        self.length = length\n",
    "    def calculate_area(self):\n",
    "        return 2 * self.width * self.length\n",
    "class Triangle(Shape):\n",
    "    def __init__(self, base, height):\n",
    "        self.base = base\n",
    "        self.height = height\n",
    "    def calculate_area(self):\n",
    "        return 0.5 * self.base * self.height\n",
    "shapes = [Circle(5), Rectangle(4, 6), Triangle(3, 8)]\n",
    "for shape in shapes:\n",
    "    print(f\"Area of {shape.__class__.__name__}: {shape.calculate_area()}\")"
   ]
  },
  {
   "cell_type": "code",
   "execution_count": null,
   "id": "142454e2",
   "metadata": {},
   "outputs": [],
   "source": [
    "#12. Discuss the benefits of polymorphism in terms of code reusability and flexibility in Python programs.\n",
    "1.Code Reusability:\n",
    "Polymorphism allows you to write code that can work with objects of different types through a common interface. \n",
    "This leads to more reusable and modular code.You can create generic functions or methods that operate on base classes\n",
    "or interfaces, and these can be reused with various concrete implementations without modification.\n",
    "2.flexibility:\n",
    "Polymorphism makes your code more flexible and extensible. You can introduce new classes or types without modifying \n",
    "existing code that relies on the common interface.\n",
    "When adding a new subclass, you only need to implement the necessary methods or override existing ones. \n",
    "The rest of the code that relies on the common interface can work seamlessly with the new classes."
   ]
  },
  {
   "cell_type": "code",
   "execution_count": 31,
   "id": "c1f00861",
   "metadata": {},
   "outputs": [
    {
     "name": "stdout",
     "output_type": "stream",
     "text": [
      "Hello from Parent and Child says Hi!\n"
     ]
    }
   ],
   "source": [
    "#13. Explain the use of the `super()` function in Python polymorphism. How does it help call methods of parent classes,\n",
    "class Parent:\n",
    "    def greet(self):\n",
    "        return \"Hello from Parent\"\n",
    "class Child(Parent):\n",
    "    def greet(self):\n",
    "        parent_greeting = super().greet()\n",
    "        return f\"{parent_greeting} and Child says Hi!\"\n",
    "child_obj = Child()\n",
    "result = child_obj.greet()\n",
    "print(result)\n"
   ]
  },
  {
   "cell_type": "code",
   "execution_count": 32,
   "id": "32b52c02",
   "metadata": {},
   "outputs": [
    {
     "name": "stdout",
     "output_type": "stream",
     "text": [
      "Savings Account Withdrawal of $300 successful. Remaining balance: $700\n",
      "Checking Account: Withdrawal of $300 successful. Remaining balance: $1700\n",
      "Credit Card Account: Withdrawal of $300 successful. Remaining balance: $200\n"
     ]
    }
   ],
   "source": [
    "#14. Create a Python class hierarchy for a banking system with various account types (e.g., savings, checking, credit card) \n",
    "#and demonstrate polymorphism by implementing a common `withdraw()` method.\n",
    "class BankAccount:\n",
    "    def __init__(self, account_number, balance):\n",
    "        self.account_number = account_number\n",
    "        self.balance = balance\n",
    "    def withdraw(self, amount):\n",
    "        if amount > 0 and amount <= self.balance:\n",
    "            self.balance -= amount\n",
    "            return f\"Withdrawal of ${amount} successful. Remaining balance: ${self.balance}\"\n",
    "        else:\n",
    "            return \"Invalid withdrawal amount or insufficient funds.\"\n",
    "class SavingsAccount(BankAccount):\n",
    "    def __init__(self, account_number, balance, interest_rate):\n",
    "        super().__init__(account_number, balance)\n",
    "        self.interest_rate = interest_rate\n",
    "    def withdraw(self, amount):\n",
    "        withdrawal_result = super().withdraw(amount)\n",
    "        return f\"Savings Account {withdrawal_result}\"\n",
    "class CheckingAccount(BankAccount):\n",
    "    def __init__(self, account_number, balance, overdraft_limit):\n",
    "        super().__init__(account_number, balance)\n",
    "        self.overdraft_limit = overdraft_limit\n",
    "    def withdraw(self, amount):\n",
    "        if amount > 0 and amount <= (self.balance + self.overdraft_limit):\n",
    "            self.balance -= amount\n",
    "            return f\"Checking Account: Withdrawal of ${amount} successful. Remaining balance: ${self.balance}\"\n",
    "        else:\n",
    "            return \"Invalid withdrawal amount or overdraft limit exceeded.\"\n",
    "class CreditCardAccount(BankAccount):\n",
    "    def __init__(self, account_number, balance, credit_limit):\n",
    "        super().__init__(account_number, balance)\n",
    "        self.credit_limit = credit_limit\n",
    "    def withdraw(self, amount):\n",
    "        if amount > 0 and amount <= (self.balance + self.credit_limit):\n",
    "            self.balance -= amount\n",
    "            return f\"Credit Card Account: Withdrawal of ${amount} successful. Remaining balance: ${self.balance}\"\n",
    "        else:\n",
    "            return \"Invalid withdrawal amount or credit limit exceeded.\"\n",
    "accounts = [\n",
    "    SavingsAccount(\"SA123\", 1000, 0.02),\n",
    "    CheckingAccount(\"CA456\", 2000, 500),\n",
    "    CreditCardAccount(\"CC789\", 500, 1000)\n",
    "]\n",
    "for account in accounts:\n",
    "    print(account.withdraw(300))\n"
   ]
  },
  {
   "cell_type": "code",
   "execution_count": 33,
   "id": "cca1bdc5",
   "metadata": {},
   "outputs": [
    {
     "name": "stdout",
     "output_type": "stream",
     "text": [
      "Result of addition: Vector(4, 6)\n",
      "Result of scalar multiplication: Vector(3, 6)\n"
     ]
    }
   ],
   "source": [
    "#15. Describe the concept of operator overloading in Python and how it relates to polymorphism. Provide examples using operators like `+` and `*`.\n",
    "class Vector:\n",
    "    def __init__(self, x, y):\n",
    "        self.x = x\n",
    "        self.y = y\n",
    "    def __add__(self, other):\n",
    "        return Vector(self.x + other.x, self.y + other.y)\n",
    "    def __mul__(self, scalar):\n",
    "        return Vector(self.x * scalar, self.y * scalar)\n",
    "    def __repr__(self):\n",
    "        return f\"Vector({self.x}, {self.y})\"\n",
    "v1 = Vector(1, 2)\n",
    "v2 = Vector(3, 4)\n",
    "result_addition = v1 + v2\n",
    "result_scalar_multiplication = v1 * 3\n",
    "print(\"Result of addition:\", result_addition)\n",
    "print(\"Result of scalar multiplication:\", result_scalar_multiplication)\n"
   ]
  },
  {
   "cell_type": "code",
   "execution_count": null,
   "id": "65540781",
   "metadata": {},
   "outputs": [],
   "source": [
    "#16. What is dynamic polymorphism, and how is it achieved in Python?\n",
    "-dynamic polymorphism is also known as runtime polymorphism.\n",
    "--method overriding polymorphism is also known as runtime polymorphism.\n",
    "-runtime polymorphism is more closely associated with metod overriding,where a method in a subclass has the same name and\n",
    "parameters as a methods in its superclass.the actual method that gets calledis determined at runtime based on the type of the object.\n",
    "-when a subclass provides a method with the same name as a method in its superclass, the subclass method overrides the superclass method.\n"
   ]
  },
  {
   "cell_type": "code",
   "execution_count": 35,
   "id": "ffe959cd",
   "metadata": {},
   "outputs": [
    {
     "name": "stdout",
     "output_type": "stream",
     "text": [
      "John Doe (Manager): Salary - $100000\n",
      "Alice Smith (Developer): Salary - $60000\n",
      "Bob Johnson (Designer): Salary - $75000\n"
     ]
    }
   ],
   "source": [
    "#17. Create a Python class hierarchy for employees in a company (e.g., manager, developer, designer) and implement polymorphism through a common `calculate_salary()` method.\n",
    "class Employee:\n",
    "    def __init__(self, name, role):\n",
    "        self.name = name\n",
    "        self.role = role\n",
    "    def calculate_salary(self):\n",
    "        raise NotImplementedError(\"Subclasses must implement the calculate_salary() method\")\n",
    "class Manager(Employee):\n",
    "    def __init__(self, name, salary, bonus):\n",
    "        super().__init__(name, role=\"Manager\")\n",
    "        self.salary = salary\n",
    "        self.bonus = bonus\n",
    "    def calculate_salary(self):\n",
    "        return self.salary + self.bonus\n",
    "class Developer(Employee):\n",
    "    def __init__(self, name, salary, language):\n",
    "        super().__init__(name, role=\"Developer\")\n",
    "        self.salary = salary\n",
    "        self.language = language\n",
    "    def calculate_salary(self):\n",
    "        return self.salary\n",
    "class Designer(Employee):\n",
    "    def __init__(self, name, salary, experience_years):\n",
    "        super().__init__(name, role=\"Designer\")\n",
    "        self.salary = salary\n",
    "        self.experience_years = experience_years\n",
    "    def calculate_salary(self):\n",
    "        return self.salary + (self.experience_years * 1000)\n",
    "employees = [\n",
    "    Manager(\"John Doe\", 80000, 20000),\n",
    "    Developer(\"Alice Smith\", 60000, \"Python\"),\n",
    "    Designer(\"Bob Johnson\", 70000, 5)\n",
    "]\n",
    "for employee in employees:\n",
    "    print(f\"{employee.name} ({employee.role}): Salary - ${employee.calculate_salary()}\")"
   ]
  },
  {
   "cell_type": "code",
   "execution_count": null,
   "id": "87f9b745",
   "metadata": {},
   "outputs": [],
   "source": [
    "#18. Discuss the concept of function pointers and how they can be used to achieve polymorphism in Python.\n",
    "functions pointers are first-class citizens, meaning they can be treated like any other object, such as integers, strings, or lists.\n",
    "This includes the ability to pass functions as arguments to other functions, return functions from functions, and store \n",
    "functions in data structures. This flexibility allows you to achieve a form of function pointers in Python."
   ]
  },
  {
   "cell_type": "code",
   "execution_count": 36,
   "id": "81a37c51",
   "metadata": {},
   "outputs": [
    {
     "name": "stdout",
     "output_type": "stream",
     "text": [
      "78.5\n",
      "16\n"
     ]
    }
   ],
   "source": [
    "class Shape:\n",
    "    def calculate_area(self):\n",
    "        pass\n",
    "def calculate_area(shape):\n",
    "    return shape.calculate_area()\n",
    "class Circle(Shape):\n",
    "    def __init__(self, radius):\n",
    "        self.radius = radius\n",
    "    def calculate_area(self):\n",
    "        return 3.14 * self.radius**2\n",
    "class Square(Shape):\n",
    "    def __init__(self, side_length):\n",
    "        self.side_length = side_length\n",
    "    def calculate_area(self):\n",
    "        return self.side_length**2\n",
    "circle = Circle(5)\n",
    "square = Square(4)\n",
    "print(calculate_area(circle))  \n",
    "print(calculate_area(square))  "
   ]
  },
  {
   "cell_type": "code",
   "execution_count": null,
   "id": "6e4d3523",
   "metadata": {},
   "outputs": [],
   "source": [
    "#19. Explain the role of interfaces and abstract classes in polymorphism, drawing comparisons between them.\n",
    "Interfaces and abstract classes are both object-oriented programming concepts that play a crucial role in achieving polymorphism.\n",
    "1.interface:-\n",
    "    -An interface is a collection of method signatures without any implementation.\n",
    "    -interfaces are not explicitly defined as a language construct, \n",
    "     but they are often represented using abstract base classes with only abstract methods."
   ]
  },
  {
   "cell_type": "code",
   "execution_count": null,
   "id": "247a9ee3",
   "metadata": {},
   "outputs": [],
   "source": [
    "from abc import ABC, abstractmethod\n",
    "class Shape(ABC):\n",
    "    @abstractmethod\n",
    "    def calculate_area(self):\n",
    "        pass\n",
    "class Circle(Shape):\n",
    "    def __init__(self, radius):\n",
    "        self.radius = radius\n",
    "    def calculate_area(self):\n",
    "        return 3.14 * self.radius**2"
   ]
  },
  {
   "cell_type": "code",
   "execution_count": null,
   "id": "3f127a75",
   "metadata": {},
   "outputs": [],
   "source": [
    "2.abstract classes\n",
    "-An abstract class is a class that cannot be instantiated and may contain both abstract methods \n",
    "(methods without implementation) and concrete methods (methods with implementation).\n",
    "-Abstract classes can serve as a base class for other classes."
   ]
  },
  {
   "cell_type": "code",
   "execution_count": 37,
   "id": "79f38e3c",
   "metadata": {},
   "outputs": [],
   "source": [
    "from abc import ABC, abstractmethod\n",
    "class Shape(ABC):\n",
    "    @abstractmethod\n",
    "    def calculate_area(self):\n",
    "        pass\n",
    "    def display_info(self):\n",
    "        print(\"This is a shape.\")\n",
    "class Circle(Shape):\n",
    "    def __init__(self, radius):\n",
    "        self.radius = radius\n",
    "    def calculate_area(self):\n",
    "        return 3.14 * self.radius**2"
   ]
  },
  {
   "cell_type": "code",
   "execution_count": 38,
   "id": "6ee050fc",
   "metadata": {},
   "outputs": [
    {
     "name": "stdout",
     "output_type": "stream",
     "text": [
      "Simba: Roar!\n",
      "Simba is eating.\n",
      "Simba is sleeping.\n",
      "Freedom: Screech!\n",
      "Freedom is eating.\n",
      "Freedom is sleeping.\n",
      "Slytherin: Hiss!\n",
      "Slytherin is eating.\n",
      "Slytherin is sleeping.\n",
      "Simba is giving birth.\n",
      "Freedom is flying.\n",
      "Slytherin is crawling.\n"
     ]
    }
   ],
   "source": [
    "#20. Create a Python class for a zoo simulation, demonstrating polymorphism with different animal types (e.g., mammals, birds, reptiles) and their behavior (e.g., eating, sleeping, making sounds).\n",
    "class Animal:\n",
    "    def __init__(self, name):\n",
    "        self.name = name\n",
    "    def make_sound(self):\n",
    "        raise NotImplementedError(\"Subclasses must implement the make_sound() method\")\n",
    "    def eat(self):\n",
    "        return f\"{self.name} is eating.\"\n",
    "    def sleep(self):\n",
    "        return f\"{self.name} is sleeping.\"\n",
    "class Mammal(Animal):\n",
    "    def give_birth(self):\n",
    "        return f\"{self.name} is giving birth.\"\n",
    "class Bird(Animal):\n",
    "    def fly(self):\n",
    "        return f\"{self.name} is flying.\"\n",
    "class Reptile(Animal):\n",
    "    def crawl(self):\n",
    "        return f\"{self.name} is crawling.\"\n",
    "class Lion(Mammal):\n",
    "    def make_sound(self):\n",
    "        return \"Roar!\"\n",
    "class Eagle(Bird):\n",
    "    def make_sound(self):\n",
    "        return \"Screech!\"\n",
    "class Snake(Reptile):\n",
    "    def make_sound(self):\n",
    "        return \"Hiss!\"\n",
    "zoo_animals = [\n",
    "    Lion(\"Simba\"),\n",
    "    Eagle(\"Freedom\"),\n",
    "    Snake(\"Slytherin\")\n",
    "]\n",
    "\n",
    "for animal in zoo_animals:\n",
    "    print(f\"{animal.name}: {animal.make_sound()}\")\n",
    "    print(animal.eat())\n",
    "    print(animal.sleep())\n",
    "lion = Lion(\"Simba\")\n",
    "print(lion.give_birth())\n",
    "eagle = Eagle(\"Freedom\")\n",
    "print(eagle.fly())\n",
    "snake = Snake(\"Slytherin\")\n",
    "print(snake.crawl())"
   ]
  },
  {
   "cell_type": "markdown",
   "id": "ec1a71de",
   "metadata": {},
   "source": [
    "# Abstraction:"
   ]
  },
  {
   "cell_type": "code",
   "execution_count": null,
   "id": "121c91ca",
   "metadata": {},
   "outputs": [],
   "source": [
    "#1. What is abstraction in Python, and how does it relate to object-oriented programming?\n",
    "abstraction is a concept that involves simplifying complex systems by modeling classes based on the essential properties \n",
    "and behaviors they share. It is one of the core principles of object-oriented programming (OOP). Abstraction allows you to \n",
    "create abstract classes and interfaces that define a blueprint for other classes, hiding the complex implementation details\n",
    "and exposing only the necessary functionality to the outside world."
   ]
  },
  {
   "cell_type": "code",
   "execution_count": null,
   "id": "a22096ab",
   "metadata": {},
   "outputs": [],
   "source": [
    "#2. Describe the benefits of abstraction in terms of code organization and complexity reduction.\n",
    "1.code organization:-\n",
    "    -Abstract classes and interfaces define a common blueprint that can be reused by multiple subclasses.\n",
    "    -This facilitates code reuse, as you can create new classes by extending abstract classes or implementing interfaces,\n",
    "    inheriting common functionality without duplicating code.\n",
    "2.complexity reduction:-\n",
    "    -Complexity reduction in the context of abstraction refers to the practice of simplifying the representation and \n",
    "    interaction of components in a system. Abstraction provides a way to manage and handle complexity in software \n",
    "    development by focusing on essential features and behaviors while hiding unnecessary details. \n",
    "    "
   ]
  },
  {
   "cell_type": "code",
   "execution_count": 2,
   "id": "ba3e0bf4",
   "metadata": {},
   "outputs": [
    {
     "name": "stdout",
     "output_type": "stream",
     "text": [
      "Area of circle: 78.5\n",
      "Area of rectangle: 80\n"
     ]
    }
   ],
   "source": [
    "#3. Create a Python class called `Shape` with an abstract method `calculate_area()`. Then, create child classes (e.g., `Circle`, `Rectangle`) that implement the `calculate_area()` method. Provide an example of using theses classes.\n",
    "class shape:\n",
    "    def calculate_area(self):\n",
    "        pass\n",
    "class circle(shape):\n",
    "    def __init__(self,radius):\n",
    "        self.radius = radius\n",
    "    def calculate_area(self):\n",
    "        return 3.14*self.radius **2\n",
    "class rectangle(shape):\n",
    "    def __init__(self,width,height):\n",
    "        self.width = width\n",
    "        self.height = height\n",
    "    def calculate_area(self):\n",
    "        return 2 * self.width * self.height\n",
    "shapes=[circle(5),rectangle(5,8)]\n",
    "for shape in shapes:\n",
    "    print(f\"Area of {shape.__class__.__name__}: {shape.calculate_area()}\")\n",
    "    "
   ]
  },
  {
   "cell_type": "code",
   "execution_count": null,
   "id": "ed4e985f",
   "metadata": {},
   "outputs": [],
   "source": [
    "#4. Explain the concept of abstract classes in Python and how they are defined using the `abc` module. Provide an example.\n",
    "abstract classes are classes that cannot be instantiated on their own and are meant to be subclassed by other classes. \n",
    "They often define a blueprint for other classes to follow by declaring abstract methods, which are methods without \n",
    "implementations. Abstract classes provide a way to enforce a common interface for a group of related classes."
   ]
  },
  {
   "cell_type": "code",
   "execution_count": 7,
   "id": "2b04d17f",
   "metadata": {},
   "outputs": [
    {
     "name": "stdout",
     "output_type": "stream",
     "text": [
      "Area of circle: 78.53981633974483\n",
      "Area of rectangle: 80\n"
     ]
    }
   ],
   "source": [
    "from abc import ABC\n",
    "from math import pi\n",
    "class shape(ABC):\n",
    "    def calculate_area(self):\n",
    "        pass\n",
    "class circle(shape):\n",
    "    def __init__(self,radius):\n",
    "        self.radius = radius\n",
    "    def calculate_area(self):\n",
    "        return pi *self.radius **2\n",
    "class rectangle(shape):\n",
    "    def __init__(self,width,height):\n",
    "        self.width = width\n",
    "        self.height = height\n",
    "    def calculate_area(self):\n",
    "        return 2 * self.width * self.height\n",
    "shapes=[circle(5),rectangle(5,8)]\n",
    "for shape in shapes:\n",
    "    print(f\"Area of {shape.__class__.__name__}: {shape.calculate_area()}\")"
   ]
  },
  {
   "cell_type": "code",
   "execution_count": null,
   "id": "e2dac728",
   "metadata": {},
   "outputs": [],
   "source": [
    "#5. How do abstract classes differ from regular classes in Python? Discuss their use cases.\n",
    "Abstract classes and regular classes in Python serve different purposes and have distinct characteristics.\n",
    "Abstract Classes:\n",
    "Use abstract classes when you want to define a common interface for a group of related classes, ensuring that certain\n",
    "methods are implemented by all subclasses.Ideal for modeling abstract concepts or behaviors in a hierarchy.\n",
    "Regular Classes:\n",
    "Use regular classes when you want to create standalone objects with specific functionalities.\n",
    "Appropriate for representing concrete entities in your system without enforcing a common interface for subclasses."
   ]
  },
  {
   "cell_type": "code",
   "execution_count": 8,
   "id": "8f2c76bf",
   "metadata": {},
   "outputs": [],
   "source": [
    "#abstract classes:-\n",
    "from abc import ABC, abstractmethod\n",
    "class Shape(ABC):\n",
    "    @abstractmethod\n",
    "    def area(self):\n",
    "        pass\n"
   ]
  },
  {
   "cell_type": "code",
   "execution_count": 9,
   "id": "017ceddc",
   "metadata": {},
   "outputs": [],
   "source": [
    "# regular classes:-\n",
    "class Car:\n",
    "    def __init__(self, make, model):\n",
    "        self.make = make\n",
    "        self.model = model\n",
    "    def drive(self):\n",
    "        print(f\"The {self.make} {self.model} is now driving.\")"
   ]
  },
  {
   "cell_type": "code",
   "execution_count": 15,
   "id": "34ed2836",
   "metadata": {},
   "outputs": [
    {
     "name": "stdout",
     "output_type": "stream",
     "text": [
      "Account holder: John Doe\n",
      "Initial balance: 1000\n",
      "Deposit of 500 successful. New balance: 1500\n",
      "Withdrawal of 200 successful. New balance: 1300\n",
      "Final balance: 1300\n"
     ]
    }
   ],
   "source": [
    "#6. Create a Python class for a bank account and demonstrate abstraction by hiding the account balance and \n",
    "#providing methods to deposit and withdraw funds.\n",
    "class BankAccount:\n",
    "    def __init__(self, account_holder, initial_balance=0):\n",
    "        self._account_holder = account_holder\n",
    "        self._balance = initial_balance\n",
    "    def deposit(self, amount):\n",
    "        if amount > 0:\n",
    "            self._balance += amount\n",
    "            print(f\"Deposit of {amount} successful. New balance: {self._balance}\")\n",
    "        else:\n",
    "            print(\"Invalid deposit amount. Please deposit a positive amount.\")\n",
    "    def withdraw(self, amount):\n",
    "        if amount > 0 and amount <= self._balance:\n",
    "            self._balance -= amount\n",
    "            print(f\"Withdrawal of {amount} successful. New balance: {self._balance}\")\n",
    "        else:\n",
    "            print(\"Invalid withdrawal amount or insufficient funds.\")\n",
    "    def get_balance(self):\n",
    "        return self._balance\n",
    "    def get_account_holder(self):\n",
    "        return self._account_holder\n",
    "account1 = BankAccount(\"John Doe\", 1000)\n",
    "print(f\"Account holder: {account1.get_account_holder()}\")\n",
    "print(f\"Initial balance: {account1.get_balance()}\")\n",
    "account1.deposit(500)\n",
    "account1.withdraw(200)\n",
    "print(f\"Final balance: {account1.get_balance()}\")"
   ]
  },
  {
   "cell_type": "code",
   "execution_count": null,
   "id": "db81ef3a",
   "metadata": {},
   "outputs": [],
   "source": [
    "#7. Discuss the concept of interface classes in Python and their role in achieving abstraction.\n",
    "interface classes are classes that define a set of methods without providing any implementation. "
   ]
  },
  {
   "cell_type": "code",
   "execution_count": 16,
   "id": "63747610",
   "metadata": {},
   "outputs": [],
   "source": [
    "from abc import ABC, abstractmethod\n",
    "class Shape(ABC):\n",
    "    @abstractmethod\n",
    "    def area(self):\n",
    "        pass\n",
    "    @abstractmethod\n",
    "    def perimeter(self):\n",
    "        pass\n"
   ]
  },
  {
   "cell_type": "code",
   "execution_count": 17,
   "id": "3c79355c",
   "metadata": {},
   "outputs": [
    {
     "name": "stdout",
     "output_type": "stream",
     "text": [
      "Buddy:\n",
      "Buddy is eating dog food.\n",
      "Buddy is sleeping in a dog bed.\n",
      "\n",
      "Whiskers:\n",
      "Whiskers is eating cat food.\n",
      "Whiskers is curling up for a cat nap.\n",
      "\n",
      "Dumbo:\n",
      "Dumbo is munching on leaves and grass.\n",
      "Dumbo is resting under a tree.\n",
      "\n"
     ]
    }
   ],
   "source": [
    "#8. Create a Python class hierarchy for animals and implement abstraction by defining common methods (e.g., `eat()`, `sleep()`) in an abstract bases classes.\n",
    "from abc import ABC, abstractmethod\n",
    "class Animal(ABC):\n",
    "    def __init__(self, name):\n",
    "        self.name = name\n",
    "    @abstractmethod\n",
    "    def eat(self):\n",
    "        pass\n",
    "    @abstractmethod\n",
    "    def sleep(self):\n",
    "        pass\n",
    "class Dog(Animal):\n",
    "    def eat(self):\n",
    "        print(f\"{self.name} is eating dog food.\")\n",
    "    def sleep(self):\n",
    "        print(f\"{self.name} is sleeping in a dog bed.\")\n",
    "class Cat(Animal):\n",
    "    def eat(self):\n",
    "        print(f\"{self.name} is eating cat food.\")\n",
    "    def sleep(self):\n",
    "        print(f\"{self.name} is curling up for a cat nap.\")\n",
    "class Elephant(Animal):\n",
    "    def eat(self):\n",
    "        print(f\"{self.name} is munching on leaves and grass.\")\n",
    "    def sleep(self):\n",
    "        print(f\"{self.name} is resting under a tree.\")\n",
    "dog1 = Dog(\"Buddy\")\n",
    "cat1 = Cat(\"Whiskers\")\n",
    "elephant1 = Elephant(\"Dumbo\")\n",
    "animals = [dog1, cat1, elephant1]\n",
    "for animal in animals:\n",
    "    print(f\"{animal.name}:\")\n",
    "    animal.eat()\n",
    "    animal.sleep()\n",
    "    print() \n"
   ]
  },
  {
   "cell_type": "code",
   "execution_count": null,
   "id": "da91a6b3",
   "metadata": {},
   "outputs": [],
   "source": [
    "#9. Explain the significance of encapsulation in achieving abstraction. Provide examples.\n",
    "-Encapsulation and abstraction are closely related concepts in object-oriented programming. \n",
    "Encapsulation refers to the bundling of data and methods that operate on the data into a single unit of a class.\n",
    "-Achieving abstraction through encapsulation involves hiding the internal details of how a class works while\n",
    "exposing only the necessary functionality to the outside world."
   ]
  },
  {
   "cell_type": "code",
   "execution_count": 18,
   "id": "0e23d5f5",
   "metadata": {},
   "outputs": [],
   "source": [
    "class BankAccount:\n",
    "    def __init__(self, account_holder, balance=0):\n",
    "        self._account_holder = account_holder\n",
    "        self._balance = balance\n",
    "\n",
    "    def get_balance(self):\n",
    "        return self._balance\n",
    "\n",
    "    def deposit(self, amount):\n",
    "        if amount > 0:\n",
    "            self._balance += amount\n",
    "            print(f\"Deposit of ${amount} successful. New balance: ${self._balance}\")\n",
    "        else:\n",
    "            print(\"Invalid deposit amount.\")"
   ]
  },
  {
   "cell_type": "code",
   "execution_count": 19,
   "id": "783e66ae",
   "metadata": {},
   "outputs": [],
   "source": [
    "class Car:\n",
    "    def __init__(self, make, model):\n",
    "        self._make = make\n",
    "        self._model = model\n",
    "\n",
    "    def start_engine(self):\n",
    "        print(f\"{self._make} {self._model}'s engine started.\")"
   ]
  },
  {
   "cell_type": "code",
   "execution_count": null,
   "id": "a48fb78d",
   "metadata": {},
   "outputs": [],
   "source": [
    "#10. What is the purpose of abstract methods, and how do they enforce abstraction in Python classes?\n",
    "Abstract methods in Python are methods declared in an abstract class that dont have an implementation in the abstract class itself.\n",
    "Enforcement of Implementation:-\n",
    "-Subclasses that fail to provide concrete implementations for all abstract methods will raise a TypeError during instantiation.\n",
    "-This enforcement ensures that all subclasses adhere to the common interface defined by the abstract class.\n"
   ]
  },
  {
   "cell_type": "code",
   "execution_count": null,
   "id": "6d61301b",
   "metadata": {},
   "outputs": [],
   "source": [
    "class ConcreteClass(MyAbstractClass):\n",
    "    def abstract_method(self):\n",
    "        print(\"Implementing abstract_method in ConcreteClass\")"
   ]
  },
  {
   "cell_type": "code",
   "execution_count": 21,
   "id": "6590c8ba",
   "metadata": {},
   "outputs": [
    {
     "name": "stdout",
     "output_type": "stream",
     "text": [
      "Toyota Camry:\n",
      "The Toyota Camry's engine started.\n",
      "The Toyota Camry's engine stopped.\n",
      "\n",
      "Harley-Davidson Sportster:\n",
      "The Harley-Davidson Sportster's engine revved up.\n",
      "The Harley-Davidson Sportster's engine turned off.\n",
      "\n"
     ]
    }
   ],
   "source": [
    "#11. Create a Python class for a vehicle system and demonstrate abstraction by defining common methods (e.g., `start()`, `stop()`) in an abstract base class.\n",
    "from abc import ABC, abstractmethod\n",
    "class Vehicle(ABC):\n",
    "    def __init__(self, make, model):\n",
    "        self.make = make\n",
    "        self.model = model\n",
    "        self.engine_started = False\n",
    "    @abstractmethod\n",
    "    def start(self):\n",
    "        pass\n",
    "    @abstractmethod\n",
    "    def stop(self):\n",
    "        pass\n",
    "class Car(Vehicle):\n",
    "    def start(self):\n",
    "        if not self.engine_started:\n",
    "            print(f\"The {self.make} {self.model}'s engine started.\")\n",
    "            self.engine_started = True\n",
    "        else:\n",
    "            print(\"The engine is already running.\")\n",
    "    def stop(self):\n",
    "        if self.engine_started:\n",
    "            print(f\"The {self.make} {self.model}'s engine stopped.\")\n",
    "            self.engine_started = False\n",
    "        else:\n",
    "            print(\"The engine is already stopped.\")\n",
    "class Motorcycle(Vehicle):\n",
    "    def start(self):\n",
    "        if not self.engine_started:\n",
    "            print(f\"The {self.make} {self.model}'s engine revved up.\")\n",
    "            self.engine_started = True\n",
    "        else:\n",
    "            print(\"The engine is already running.\")\n",
    "    def stop(self):\n",
    "        if self.engine_started:\n",
    "            print(f\"The {self.make} {self.model}'s engine turned off.\")\n",
    "            self.engine_started = False\n",
    "        else:\n",
    "            print(\"The engine is already stopped.\")\n",
    "car1 = Car(\"Toyota\", \"Camry\")\n",
    "motorcycle1 = Motorcycle(\"Harley-Davidson\", \"Sportster\")\n",
    "vehicles = [car1, motorcycle1]\n",
    "for vehicle in vehicles:\n",
    "    print(f\"{vehicle.make} {vehicle.model}:\")\n",
    "    vehicle.start()\n",
    "    vehicle.stop()\n",
    "    print()  \n"
   ]
  },
  {
   "cell_type": "code",
   "execution_count": null,
   "id": "8e37c95a",
   "metadata": {},
   "outputs": [],
   "source": [
    "#12. Describe the use of abstract properties in Python and how they can be employed in abstract classes.\n",
    "abstract properties are properties declared in an abstract base class without providing an implementation.\n",
    "Abstract properties serve a similar purpose to abstract methods but are used for defining attributes instead of methods. "
   ]
  },
  {
   "cell_type": "code",
   "execution_count": 22,
   "id": "6b7da905",
   "metadata": {},
   "outputs": [],
   "source": [
    "#1.using @property decoration:\n",
    "from abc import ABC, abstractmethod\n",
    "class MyAbstractClass(ABC):\n",
    "    @property\n",
    "    @abstractmethod\n",
    "    def abstract_property(self):\n",
    "        pass"
   ]
  },
  {
   "cell_type": "code",
   "execution_count": 23,
   "id": "e8d0e139",
   "metadata": {},
   "outputs": [],
   "source": [
    "#2.concrete subclasses implementation.\n",
    "class ConcreteClass(MyAbstractClass):\n",
    "    _concrete_value = 42\n",
    "    @property\n",
    "    def abstract_property(self):\n",
    "        return self._concrete_value"
   ]
  },
  {
   "cell_type": "code",
   "execution_count": 24,
   "id": "94a46769",
   "metadata": {},
   "outputs": [],
   "source": [
    "#3.enforcement of property implementation.\n",
    "class AnotherClass(MyAbstractClass):\n",
    "    pass"
   ]
  },
  {
   "cell_type": "code",
   "execution_count": 25,
   "id": "1365efef",
   "metadata": {},
   "outputs": [
    {
     "name": "stdout",
     "output_type": "stream",
     "text": [
      "42\n"
     ]
    }
   ],
   "source": [
    "#4.example usage:\n",
    "instance = ConcreteClass()\n",
    "print(instance.abstract_property)"
   ]
  },
  {
   "cell_type": "code",
   "execution_count": 27,
   "id": "a2c765af",
   "metadata": {},
   "outputs": [
    {
     "name": "stdout",
     "output_type": "stream",
     "text": [
      "Alice (Manager):\n",
      "Salary: 76000\n",
      "\n",
      "Bob (Developer):\n",
      "Salary: 55000\n",
      "\n",
      "Charlie (Designer):\n",
      "Salary: 60000\n",
      "\n"
     ]
    }
   ],
   "source": [
    "#13. Create a Python class hierarchy for employees in a company (e.g., manager, developer, designer) and implement abstraction by defining a common `get_salary()` method.\n",
    "from abc import ABC, abstractmethod\n",
    "class Employee(ABC):\n",
    "    def __init__(self, name, role):\n",
    "        self.name = name\n",
    "        self.role = role\n",
    "    @abstractmethod\n",
    "    def get_salary(self):\n",
    "        pass\n",
    "class Manager(Employee):\n",
    "    def __init__(self, name, team_size):\n",
    "        super().__init__(name, role=\"Manager\")\n",
    "        self.team_size = team_size\n",
    "    def get_salary(self):\n",
    "        base_salary = 60000\n",
    "        bonus = self.team_size * 2000\n",
    "        return base_salary + bonus\n",
    "class Developer(Employee):\n",
    "    def __init__(self, name, programming_language):\n",
    "        super().__init__(name, role=\"Developer\")\n",
    "        self.programming_language = programming_language\n",
    "    def get_salary(self):\n",
    "        base_salary = 50000\n",
    "        if self.programming_language == \"Python\":\n",
    "            bonus = 5000\n",
    "        else:\n",
    "            bonus = 0\n",
    "        return base_salary + bonus\n",
    "class Designer(Employee):\n",
    "    def __init__(self, name, years_of_experience):\n",
    "        super().__init__(name, role=\"Designer\")\n",
    "        self.years_of_experience = years_of_experience\n",
    "    def get_salary(self):\n",
    "        base_salary = 55000\n",
    "        bonus = min(self.years_of_experience * 1000, 5000)\n",
    "        return base_salary + bonus\n",
    "manager1 = Manager(\"Alice\", team_size=8)\n",
    "developer1 = Developer(\"Bob\", programming_language=\"Python\")\n",
    "designer1 = Designer(\"Charlie\", years_of_experience=5)\n",
    "employees = [manager1, developer1, designer1]\n",
    "for employee in employees:\n",
    "    print(f\"{employee.name} ({employee.role}):\")\n",
    "    print(f\"Salary: {employee.get_salary()}\")\n",
    "    print()  "
   ]
  },
  {
   "cell_type": "code",
   "execution_count": null,
   "id": "ea4cc71d",
   "metadata": {},
   "outputs": [],
   "source": [
    "#14. Discuss the differences between abstract classes and concrete classes in Python, including their instantiation.\n",
    "1.abstract class:-\n",
    "    -Abstract classes are classes that cannot be instantiated on their own.\n",
    "    -They often define abstract methods that must be implemented by their concrete subclasses.\n",
    "2.concrete class:-\n",
    "    -Concrete classes are classes that can be instantiated directly.\n",
    "    -They may or may not inherit from abstract classes."
   ]
  },
  {
   "cell_type": "code",
   "execution_count": 28,
   "id": "533cd37c",
   "metadata": {},
   "outputs": [],
   "source": [
    "#abstract class\n",
    "from abc import ABC, abstractmethod\n",
    "class MyAbstractClass(ABC):\n",
    "    @abstractmethod\n",
    "    def abstract_method(self):\n",
    "        pass"
   ]
  },
  {
   "cell_type": "code",
   "execution_count": 29,
   "id": "8d268833",
   "metadata": {},
   "outputs": [],
   "source": [
    "#concrete class\n",
    "class MyConcreteClass:\n",
    "    def concrete_method(self):\n",
    "        print(\"This is a concrete method.\")\n",
    "    def another_concrete_method(self):\n",
    "        print(\"This is another concrete method.\")"
   ]
  },
  {
   "cell_type": "code",
   "execution_count": null,
   "id": "e30bbeef",
   "metadata": {},
   "outputs": [],
   "source": [
    "#15. Explain the concept of abstract data types (ADTs) and their role in achieving abstraction in Python.\n",
    "-Abstract Data Types (ADTs) are high-level data structures that provide a specific set of operations and \n",
    "hide the implementation details from the user. \n",
    "- key aspects of the concept of Abstract Data Types and their role in achieving abstraction.\n",
    "1.high level view\n",
    "2.separtion of concerns\n",
    "3.encapsulation\n",
    "4.defined operations\n",
    "5.flexibility and extensibility"
   ]
  },
  {
   "cell_type": "code",
   "execution_count": 30,
   "id": "d9f5c63c",
   "metadata": {},
   "outputs": [],
   "source": [
    "class Queue:\n",
    "    def __init__(self):\n",
    "        self.items = []\n",
    "    def enqueue(self, item):\n",
    "        self.items.append(item)\n",
    "    def dequeue(self):\n",
    "        if not self.is_empty():\n",
    "            return self.items.pop(0)\n",
    "    def is_empty(self):\n",
    "        return len(self.items) == 0\n",
    "    def size(self):\n",
    "        return len(self.items)"
   ]
  },
  {
   "cell_type": "code",
   "execution_count": 31,
   "id": "51537682",
   "metadata": {},
   "outputs": [
    {
     "name": "stdout",
     "output_type": "stream",
     "text": [
      "Dell OptiPlex:\n",
      "Dell OptiPlex desktop is powering on.\n",
      "Dell OptiPlex desktop is shutting down.\n",
      "\n",
      "HP EliteBook:\n",
      "HP EliteBook laptop is powering on.\n",
      "HP EliteBook laptop is shutting down.\n",
      "\n"
     ]
    }
   ],
   "source": [
    "#16. Create a Python class for a computer system, demonstrating abstraction by defining common methods (e.g., `power_on()`, `shutdown()`) in an abstract base cases.\n",
    "from abc import ABC, abstractmethod\n",
    "class Computer(ABC):\n",
    "    def __init__(self, brand, model):\n",
    "        self.brand = brand\n",
    "        self.model = model\n",
    "        self.powered_on = False\n",
    "    @abstractmethod\n",
    "    def power_on(self):\n",
    "        pass\n",
    "    @abstractmethod\n",
    "    def shutdown(self):\n",
    "        pass\n",
    "class Desktop(Computer):\n",
    "    def power_on(self):\n",
    "        if not self.powered_on:\n",
    "            print(f\"{self.brand} {self.model} desktop is powering on.\")\n",
    "            self.powered_on = True\n",
    "        else:\n",
    "            print(\"Desktop is already powered on.\")\n",
    "    def shutdown(self):\n",
    "        if self.powered_on:\n",
    "            print(f\"{self.brand} {self.model} desktop is shutting down.\")\n",
    "            self.powered_on = False\n",
    "        else:\n",
    "            print(\"Desktop is already powered off.\")\n",
    "class Laptop(Computer):\n",
    "    def power_on(self):\n",
    "        if not self.powered_on:\n",
    "            print(f\"{self.brand} {self.model} laptop is powering on.\")\n",
    "            self.powered_on = True\n",
    "        else:\n",
    "            print(\"Laptop is already powered on.\")\n",
    "    def shutdown(self):\n",
    "        if self.powered_on:\n",
    "            print(f\"{self.brand} {self.model} laptop is shutting down.\")\n",
    "            self.powered_on = False\n",
    "        else:\n",
    "            print(\"Laptop is already powered off.\")\n",
    "desktop1 = Desktop(\"Dell\", \"OptiPlex\")\n",
    "laptop1 = Laptop(\"HP\", \"EliteBook\")\n",
    "computers = [desktop1, laptop1]\n",
    "for computer in computers:\n",
    "    print(f\"{computer.brand} {computer.model}:\")\n",
    "    computer.power_on()\n",
    "    computer.shutdown()\n",
    "    print()  "
   ]
  },
  {
   "cell_type": "code",
   "execution_count": null,
   "id": "d6af6888",
   "metadata": {},
   "outputs": [],
   "source": [
    "#17. Discuss the benefits of using abstraction in large-scale software development projects.\n",
    "Abstraction is a fundamental concept in software development that involves simplifying complex systems \n",
    "by modeling classes and components based on essential properties and behaviors.\n",
    "When applied in large-scale software development projects, abstraction brings several\n",
    "benefits that contribute to the efficiency, maintainability, and scalability of the project.\n",
    "advantages of the abstraction:-\n",
    "    1.modularity and code organization.\n",
    "    2.reduced complexity.\n",
    "    3.ease of maintainance\n",
    "    4.reusability and extensibility\n",
    "    5.polymorphism and interface based design\n",
    "    6.improved collaboration\n",
    "    7.testing and debugging\n",
    "    8.scalability"
   ]
  },
  {
   "cell_type": "code",
   "execution_count": null,
   "id": "c16b53f7",
   "metadata": {},
   "outputs": [],
   "source": [
    "#18. Explain how abstraction enhances code reusability and modularity in Python programs.\n",
    "Abstraction in Python Enhances Code Reusability and Modularity by:\n",
    "Code Reusability:\n",
    "    \n",
    "Encapsulation: Grouping functionality into well-defined units for reuse.\n",
    "Abstract Classes and Interfaces: Defining common methods and properties for inheritance.\n",
    "Polymorphism: Treating objects of different types as objects of a common type.\n",
    "    \n",
    "Modularity:\n",
    "    \n",
    "Encapsulation of Components: Defining modular units (classes, functions) with specific responsibilities.\n",
    "Separation of Concerns: Defining interfaces to reduce dependencies and separate functionalities.\n",
    "Ease of Maintenance: Localized changes within modules without affecting the entire codebase."
   ]
  },
  {
   "cell_type": "code",
   "execution_count": 32,
   "id": "aaea821c",
   "metadata": {},
   "outputs": [
    {
     "name": "stdout",
     "output_type": "stream",
     "text": [
      "Area: 78.5\n",
      "Area: 24\n"
     ]
    }
   ],
   "source": [
    "from abc import ABC, abstractmethod\n",
    "class Shape(ABC):\n",
    "    @abstractmethod\n",
    "    def calculate_area(self):\n",
    "        pass\n",
    "class Circle(Shape):\n",
    "    def __init__(self, radius):\n",
    "        self.radius = radius\n",
    "    def calculate_area(self):\n",
    "        return 3.14 * self.radius ** 2\n",
    "class Rectangle(Shape):\n",
    "    def __init__(self, width, height):\n",
    "        self.width = width\n",
    "        self.height = height\n",
    "    def calculate_area(self):\n",
    "        return self.width * self.height\n",
    "def print_area(shape):\n",
    "    print(f\"Area: {shape.calculate_area()}\")\n",
    "circle = Circle(radius=5)\n",
    "rectangle = Rectangle(width=4, height=6)\n",
    "print_area(circle)      \n",
    "print_area(rectangle)   \n"
   ]
  },
  {
   "cell_type": "code",
   "execution_count": 33,
   "id": "3b2bc8ce",
   "metadata": {},
   "outputs": [
    {
     "name": "stdout",
     "output_type": "stream",
     "text": [
      "Book 'The Great Gatsby' by F. Scott Fitzgerald added to the library.\n",
      "The Great Gatsby (ID: B001) - Available\n",
      "Book 'The Great Gatsby' has been borrowed.\n",
      "Book 'The Great Gatsby' has been returned.\n",
      "The Great Gatsby (ID: B001) - Available\n",
      "\n",
      "DVD 'Inception' directed by Christopher Nolan added to the library.\n",
      "Inception (ID: D001) - Available\n",
      "DVD 'Inception' has been borrowed.\n",
      "DVD 'Inception' has been returned.\n",
      "Inception (ID: D001) - Available\n",
      "\n"
     ]
    }
   ],
   "source": [
    "#19. Create a Python class for a library system, implementing abstraction by defining common methods (e.g., `add_book()`, `borrow_book()`) in an abstract base class.\n",
    "from abc import ABC, abstractmethod\n",
    "from datetime import datetime, timedelta\n",
    "class LibraryItem(ABC):\n",
    "    def __init__(self, title, item_id, is_available=True):\n",
    "        self.title = title\n",
    "        self.item_id = item_id\n",
    "        self.is_available = is_available\n",
    "    @abstractmethod\n",
    "    def add_item(self):\n",
    "        pass\n",
    "    @abstractmethod\n",
    "    def borrow_item(self):\n",
    "        pass\n",
    "    @abstractmethod\n",
    "    def return_item(self):\n",
    "        pass\n",
    "    def display_info(self):\n",
    "        availability = \"Available\" if self.is_available else \"Not Available\"\n",
    "        print(f\"{self.title} (ID: {self.item_id}) - {availability}\")\n",
    "class Book(LibraryItem):\n",
    "    def __init__(self, title, book_id, author, is_available=True):\n",
    "        super().__init__(title, item_id=book_id, is_available=is_available)\n",
    "        self.author = author\n",
    "    def add_item(self):\n",
    "        print(f\"Book '{self.title}' by {self.author} added to the library.\")\n",
    "    def borrow_item(self):\n",
    "        if self.is_available:\n",
    "            print(f\"Book '{self.title}' has been borrowed.\")\n",
    "            self.is_available = False\n",
    "        else:\n",
    "            print(\"Sorry, the book is currently not available for borrowing.\")\n",
    "    def return_item(self):\n",
    "        print(f\"Book '{self.title}' has been returned.\")\n",
    "        self.is_available = True\n",
    "class DVD(LibraryItem):\n",
    "    def __init__(self, title, dvd_id, director, is_available=True):\n",
    "        super().__init__(title, item_id=dvd_id, is_available=is_available)\n",
    "        self.director = director\n",
    "    def add_item(self):\n",
    "        print(f\"DVD '{self.title}' directed by {self.director} added to the library.\")\n",
    "    def borrow_item(self):\n",
    "        if self.is_available:\n",
    "            print(f\"DVD '{self.title}' has been borrowed.\")\n",
    "            self.is_available = False\n",
    "        else:\n",
    "            print(\"Sorry, the DVD is currently not available for borrowing.\")\n",
    "    def return_item(self):\n",
    "        print(f\"DVD '{self.title}' has been returned.\")\n",
    "        self.is_available = True\n",
    "book1 = Book(title=\"The Great Gatsby\", book_id=\"B001\", author=\"F. Scott Fitzgerald\")\n",
    "dvd1 = DVD(title=\"Inception\", dvd_id=\"D001\", director=\"Christopher Nolan\")\n",
    "library_items = [book1, dvd1]\n",
    "for item in library_items:\n",
    "    item.add_item()\n",
    "    item.display_info()\n",
    "    item.borrow_item()\n",
    "    item.return_item()\n",
    "    item.display_info()\n",
    "    print() \n"
   ]
  },
  {
   "cell_type": "code",
   "execution_count": null,
   "id": "37d0c2c9",
   "metadata": {},
   "outputs": [],
   "source": [
    "#20. Describe the concept of method abstraction in Python and how it relates to polymorphism.\n",
    "Method abstraction in Python refers to the process of hiding the implementation details of a method while exposing a clear\n",
    "and well-defined interface. This concept is closely related to polymorphism, as it allows different objects to be treated\n",
    "uniformly through a common interface, even if they belong to different classes or have different implementations of the\n",
    "same method."
   ]
  },
  {
   "cell_type": "code",
   "execution_count": 34,
   "id": "be87494f",
   "metadata": {},
   "outputs": [
    {
     "name": "stdout",
     "output_type": "stream",
     "text": [
      "Woof!\n",
      "Meow!\n",
      "Chirp!\n"
     ]
    }
   ],
   "source": [
    "from abc import ABC, abstractmethod\n",
    "class Animal(ABC):\n",
    "    @abstractmethod\n",
    "    def make_sound(self):\n",
    "        pass\n",
    "class Dog(Animal):\n",
    "    def make_sound(self):\n",
    "        return \"Woof!\"\n",
    "class Cat(Animal):\n",
    "    def make_sound(self):\n",
    "        return \"Meow!\"\n",
    "class Bird(Animal):\n",
    "    def make_sound(self):\n",
    "        return \"Chirp!\"\n",
    "def animal_sounds(animals):\n",
    "    for animal in animals:\n",
    "        print(animal.make_sound())\n",
    "dog = Dog()\n",
    "cat = Cat()\n",
    "bird = Bird()\n",
    "animal_sounds([dog, cat, bird])"
   ]
  },
  {
   "cell_type": "markdown",
   "id": "1da71984",
   "metadata": {},
   "source": [
    "# Composition:"
   ]
  },
  {
   "cell_type": "code",
   "execution_count": null,
   "id": "1395be9f",
   "metadata": {},
   "outputs": [],
   "source": [
    "#1. Explain the concept of composition in Python and how it is used to build complex objects from simpler ones.\n",
    "composition is a design principle that promotes building complex objects by combining simpler ones. It is an alternative to\n",
    "inheritance, where instead of creating a class hierarchy through inheritance, you create relationships between classes by \n",
    "including instances of other classes within your class."
   ]
  },
  {
   "cell_type": "code",
   "execution_count": 1,
   "id": "5ddd8e4a",
   "metadata": {},
   "outputs": [
    {
     "name": "stdout",
     "output_type": "stream",
     "text": [
      "Car is starting...\n",
      "Engine started\n"
     ]
    }
   ],
   "source": [
    "class Engine:\n",
    "    def start(self):\n",
    "        print(\"Engine started\")\n",
    "class Car:\n",
    "    def __init__(self):\n",
    "        self.engine = Engine()\n",
    "    def start(self):\n",
    "        print(\"Car is starting...\")\n",
    "        self.engine.start()\n",
    "my_car = Car()\n",
    "my_car.start()"
   ]
  },
  {
   "cell_type": "code",
   "execution_count": null,
   "id": "f47de476",
   "metadata": {},
   "outputs": [],
   "source": [
    "#2. Describe the difference between composition and inheritance in object-oriented programming.\n",
    "1.Composition:\n",
    "Relationship: \"Has-a\"\n",
    "Structure: One class contains an instance of another.\n",
    "Flexibility: More flexible, promotes modularity.\n",
    "Code Reusability: Components are independent, reusable.\n",
    "Encapsulation: Each class is independent.\n",
    "Complexity: Generally results in less complex code.\n",
    "2.Inheritance:\n",
    "Relationship: \"Is-a\"\n",
    "Structure: Subclass derives from a base class.\n",
    "Flexibility: Rigid hierarchy, changes can affect all subclasses.\n",
    "Code Reusability: Inherits attributes/behaviors from base class.\n",
    "Encapsulation: Exposes internal details, less encapsulation.\n",
    "Complexity: Can lead to a more complex codebase."
   ]
  },
  {
   "cell_type": "code",
   "execution_count": 2,
   "id": "161b1870",
   "metadata": {},
   "outputs": [
    {
     "name": "stdout",
     "output_type": "stream",
     "text": [
      "Title: Sample Book\n",
      "Author: John Doe\n",
      "Birthdate: January 1, 1980\n",
      "Publication Year: 2022\n"
     ]
    }
   ],
   "source": [
    "#3. Create a Python class called `Author` with attributes for name and birthdate. Then, create a `Book` class \n",
    "#that contains an instance of `Author` as a composition. Provide an example of creating a `Book` object.\n",
    "class Author:\n",
    "    def __init__(self, name, birthdate):\n",
    "        self.name = name\n",
    "        self.birthdate = birthdate\n",
    "class Book:\n",
    "    def __init__(self, title, author, publication_year):\n",
    "        self.title = title\n",
    "        self.author = author  \n",
    "        self.publication_year = publication_year\n",
    "    def display_info(self):\n",
    "        print(f\"Title: {self.title}\")\n",
    "        print(f\"Author: {self.author.name}\")\n",
    "        print(f\"Birthdate: {self.author.birthdate}\")\n",
    "        print(f\"Publication Year: {self.publication_year}\")\n",
    "author_john_doe = Author(name=\"John Doe\", birthdate=\"January 1, 1980\")\n",
    "book_example = Book(title=\"Sample Book\", author=author_john_doe, publication_year=2022)\n",
    "book_example.display_info()"
   ]
  },
  {
   "cell_type": "code",
   "execution_count": null,
   "id": "29daca20",
   "metadata": {},
   "outputs": [],
   "source": [
    "#4. Discuss the benefits of using composition over inheritance in Python, especially in terms of code flexibility and reusability.\n",
    "1. Flexibility:\n",
    "-Composition:\n",
    "-Allows for more flexible and dynamic relationships between classes.\n",
    "-Components can be easily replaced or modified without affecting the entire class hierarchy.\n",
    "-Promotes a modular design, making it easier to adapt to changing requirements.\n",
    "-Inheritance:\n",
    "-Can lead to a rigid class hierarchy, where changes in the base class may have widespread effects on subclasses.\n",
    "-Limited flexibility, especially when trying to incorporate functionality from multiple sources.\n",
    "2. Code Reusability:\n",
    "-Composition:\n",
    "-Promotes code reusability by allowing the use of existing classes without the constraints of a deep class hierarchy.\n",
    "-Components can be reused in different contexts, fostering a more modular and maintainable codebase.\n",
    "-Inheritance:\n",
    "-Code reuse is achieved through a hierarchical structure, but it may lead to a less modular and more tightly coupled system.\n",
    "-Changes in the base class can have unintended consequences for all subclasses."
   ]
  },
  {
   "cell_type": "code",
   "execution_count": 3,
   "id": "f374c12c",
   "metadata": {},
   "outputs": [
    {
     "name": "stdout",
     "output_type": "stream",
     "text": [
      "Toyota Camry is starting...\n",
      "Engine started\n"
     ]
    }
   ],
   "source": [
    "#5. How can you implement composition in Python classes? Provide examples of using composition to create complex objects.\n",
    "class Engine:\n",
    "    def start(self):\n",
    "        print(\"Engine started\")\n",
    "class Car:\n",
    "    def __init__(self, make, model):\n",
    "        self.make = make\n",
    "        self.model = model\n",
    "        self.engine = Engine() \n",
    "    def start(self):\n",
    "        print(f\"{self.make} {self.model} is starting...\")\n",
    "        self.engine.start()\n",
    "my_car = Car(make=\"Toyota\", model=\"Camry\")\n",
    "my_car.start()"
   ]
  },
  {
   "cell_type": "code",
   "execution_count": 4,
   "id": "1f845998",
   "metadata": {},
   "outputs": [
    {
     "name": "stdout",
     "output_type": "stream",
     "text": [
      "Playing all songs in playlist: Party Mix\n",
      "Playing all songs in playlist: My Playlist\n",
      "Playing: Song 1 by Artist 1\n",
      "Playing: Song 2 by Artist 2\n",
      "Playing all songs in playlist: Favorites\n",
      "Playing: Song 3 by Artist 3\n"
     ]
    }
   ],
   "source": [
    "#6. Create a Python class hierarchy for a music player system, using composition to represent playlists and songs.\n",
    "class Song:\n",
    "    def __init__(self, title, artist, duration):\n",
    "        self.title = title\n",
    "        self.artist = artist\n",
    "        self.duration = duration\n",
    "    def play(self):\n",
    "        print(f\"Playing: {self.title} by {self.artist}\")\n",
    "class Playlist:\n",
    "    def __init__(self, name):\n",
    "        self.name = name\n",
    "        self.songs = []  \n",
    "    def add_song(self, song):\n",
    "        self.songs.append(song)\n",
    "    def play_all(self):\n",
    "        print(f\"Playing all songs in playlist: {self.name}\")\n",
    "        for song in self.songs:\n",
    "            song.play()\n",
    "class MusicPlayer:\n",
    "    def __init__(self):\n",
    "        self.playlists = []  \n",
    "    def create_playlist(self, name):\n",
    "        playlist = Playlist(name)\n",
    "        self.playlists.append(playlist)\n",
    "        return playlist\n",
    "song1 = Song(title=\"Song 1\", artist=\"Artist 1\", duration=\"3:30\")\n",
    "song2 = Song(title=\"Song 2\", artist=\"Artist 2\", duration=\"4:15\")\n",
    "song3 = Song(title=\"Song 3\", artist=\"Artist 3\", duration=\"3:50\")\n",
    "playlist1 = Playlist(name=\"My Playlist\")\n",
    "playlist1.add_song(song1)\n",
    "playlist1.add_song(song2)\n",
    "playlist2 = Playlist(name=\"Favorites\")\n",
    "playlist2.add_song(song3)\n",
    "music_player = MusicPlayer()\n",
    "music_player.create_playlist(\"Party Mix\")\n",
    "music_player.playlists.extend([playlist1, playlist2])\n",
    "for playlist in music_player.playlists:\n",
    "    playlist.play_all()"
   ]
  },
  {
   "cell_type": "code",
   "execution_count": null,
   "id": "b412e5e3",
   "metadata": {},
   "outputs": [],
   "source": [
    "#7. Explain the concept of \"has-a\" relationships in composition and how it helps design software systems.\n",
    "The concept of \"has-a\" relationships in composition is a fundamental principle in object-oriented programming (OOP). \n",
    "It refers to the idea that a class can contain an instance of another class as a member or attribute. \n",
    "This allows one class to \"have\" another class as a part of its structure, creating a relationship often referred to as composition.\n",
    "In a \"has-a\" relationship, one class is composed of or contains another class. "
   ]
  },
  {
   "cell_type": "code",
   "execution_count": 5,
   "id": "efda4996",
   "metadata": {},
   "outputs": [
    {
     "name": "stdout",
     "output_type": "stream",
     "text": [
      "Car is starting...\n",
      "Engine started\n"
     ]
    }
   ],
   "source": [
    "class Engine:\n",
    "    def start(self):\n",
    "        print(\"Engine started\")\n",
    "class Car:\n",
    "    def __init__(self):\n",
    "        self.engine = Engine() \n",
    "    def start(self):\n",
    "        print(\"Car is starting...\")\n",
    "        self.engine.start()\n",
    "my_car = Car()\n",
    "my_car.start()"
   ]
  },
  {
   "cell_type": "code",
   "execution_count": 6,
   "id": "3d3d3f04",
   "metadata": {},
   "outputs": [
    {
     "name": "stdout",
     "output_type": "stream",
     "text": [
      "Computer system is performing a task.\n",
      "Intel i7 CPU is processing data.\n",
      "Reading data from 8GB RAM at 2400MHz.\n",
      "Storing data on 256GB SSD storage.\n"
     ]
    }
   ],
   "source": [
    "#8. Create a Python class for a computer system, using composition to represent components like CPU, RAM, and storage devices.\n",
    "class CPU:\n",
    "    def __init__(self, brand, model, cores):\n",
    "        self.brand = brand\n",
    "        self.model = model\n",
    "        self.cores = cores\n",
    "    def process_data(self):\n",
    "        print(f\"{self.brand} {self.model} CPU is processing data.\")\n",
    "class RAM:\n",
    "    def __init__(self, capacity_gb, speed_mhz):\n",
    "        self.capacity_gb = capacity_gb\n",
    "        self.speed_mhz = speed_mhz\n",
    "    def read_data(self):\n",
    "        print(f\"Reading data from {self.capacity_gb}GB RAM at {self.speed_mhz}MHz.\")\n",
    "class StorageDevice:\n",
    "    def __init__(self, type, capacity_gb):\n",
    "        self.type = type\n",
    "        self.capacity_gb = capacity_gb\n",
    "    def store_data(self):\n",
    "        print(f\"Storing data on {self.capacity_gb}GB {self.type} storage.\")\n",
    "class ComputerSystem:\n",
    "    def __init__(self, cpu, ram, storage):\n",
    "        self.cpu = cpu  \n",
    "        self.ram = ram  \n",
    "        self.storage = storage  \n",
    "    def perform_task(self):\n",
    "        print(\"Computer system is performing a task.\")\n",
    "        self.cpu.process_data()\n",
    "        self.ram.read_data()\n",
    "        self.storage.store_data()\n",
    "cpu = CPU(brand=\"Intel\", model=\"i7\", cores=4)\n",
    "ram = RAM(capacity_gb=8, speed_mhz=2400)\n",
    "storage = StorageDevice(type=\"SSD\", capacity_gb=256)\n",
    "my_computer = ComputerSystem(cpu=cpu, ram=ram, storage=storage)\n",
    "my_computer.perform_task()"
   ]
  },
  {
   "cell_type": "code",
   "execution_count": null,
   "id": "a7393e8b",
   "metadata": {},
   "outputs": [],
   "source": [
    "#9. Describe the concept of \"delegation\" in composition and how it simplifies the design of complex systems.\n",
    "Delegation in composition is a design principle where an object passes on a specific task or responsibility to another object\n",
    "rather than handling it internally. In other words, an object delegates some of its functionality to another object that \n",
    "specializes in that particular task. This concept is closely related to composition, where objects are combined to create\n",
    "more complex ones."
   ]
  },
  {
   "cell_type": "code",
   "execution_count": 7,
   "id": "0a1358e2",
   "metadata": {},
   "outputs": [
    {
     "name": "stdout",
     "output_type": "stream",
     "text": [
      "PrintManager is preparing to print...\n",
      "Printing document: Sample Document\n"
     ]
    }
   ],
   "source": [
    "class Printer:\n",
    "    def print_document(self, document):\n",
    "        print(f\"Printing document: {document}\")\n",
    "class PrintManager:\n",
    "    def __init__(self, printer):\n",
    "        self.printer = printer  \n",
    "    def print_document(self, document):\n",
    "        print(\"PrintManager is preparing to print...\")\n",
    "        self.printer.print_document(document)\n",
    "printer = Printer()\n",
    "print_manager = PrintManager(printer)\n",
    "print_manager.print_document(\"Sample Document\")"
   ]
  },
  {
   "cell_type": "code",
   "execution_count": 8,
   "id": "c4fb7c46",
   "metadata": {},
   "outputs": [
    {
     "name": "stdout",
     "output_type": "stream",
     "text": [
      "Toyota Camry is starting...\n",
      "Engine started\n",
      "Toyota Camry is on the move...\n",
      "Shifting gears\n",
      "Wheels rotating\n",
      "Toyota Camry is stopping...\n",
      "Engine stopped\n"
     ]
    }
   ],
   "source": [
    "#10. Create a Python class for a car, using composition to represent components like the engine, wheels, and transmission.\n",
    "class Engine:\n",
    "    def __init__(self, fuel_type, horsepower):\n",
    "        self.fuel_type = fuel_type\n",
    "        self.horsepower = horsepower\n",
    "    def start(self):\n",
    "        print(\"Engine started\")\n",
    "    def stop(self):\n",
    "        print(\"Engine stopped\")\n",
    "class Wheels:\n",
    "    def __init__(self, brand, size):\n",
    "        self.brand = brand\n",
    "        self.size = size\n",
    "    def rotate(self):\n",
    "        print(\"Wheels rotating\")\n",
    "class Transmission:\n",
    "    def __init__(self, transmission_type):\n",
    "        self.transmission_type = transmission_type\n",
    "    def shift_gear(self):\n",
    "        print(\"Shifting gears\")\n",
    "class Car:\n",
    "    def __init__(self, make, model, engine, wheels, transmission):\n",
    "        self.make = make\n",
    "        self.model = model\n",
    "        self.engine = engine  \n",
    "        self.wheels = wheels \n",
    "        self.transmission = transmission  \n",
    "    def start(self):\n",
    "        print(f\"{self.make} {self.model} is starting...\")\n",
    "        self.engine.start()\n",
    "    def drive(self):\n",
    "        print(f\"{self.make} {self.model} is on the move...\")\n",
    "        self.transmission.shift_gear()\n",
    "        self.wheels.rotate()\n",
    "    def stop(self):\n",
    "        print(f\"{self.make} {self.model} is stopping...\")\n",
    "        self.engine.stop()\n",
    "engine = Engine(fuel_type=\"Gasoline\", horsepower=200)\n",
    "wheels = Wheels(brand=\"Michelin\", size=18)\n",
    "transmission = Transmission(transmission_type=\"Automatic\")\n",
    "my_car = Car(make=\"Toyota\", model=\"Camry\", engine=engine, wheels=wheels, transmission=transmission)\n",
    "my_car.start()\n",
    "my_car.drive()\n",
    "my_car.stop()\n"
   ]
  },
  {
   "cell_type": "code",
   "execution_count": 10,
   "id": "00805dba",
   "metadata": {},
   "outputs": [
    {
     "name": "stdout",
     "output_type": "stream",
     "text": [
      "Starting the car...\n",
      "Engine started\n",
      "Stopping the car...\n",
      "Engine stopped\n"
     ]
    }
   ],
   "source": [
    "#11. How can you encapsulate and hide the details of composed objects in Python classes to maintain abstraction?\n",
    "'''you can encapsulate and hide the details of composed objects in classes to maintain abstraction by following certain\n",
    "principles of object-oriented programming(OOP).'''\n",
    "class Car:\n",
    "    def __init__(self, engine):\n",
    "        self._engine = engine  \n",
    "    def start(self):\n",
    "        print(\"Starting the car...\")\n",
    "        self._engine.start()\n",
    "    def stop(self):\n",
    "        print(\"Stopping the car...\")\n",
    "        self._engine.stop()\n",
    "car_engine = Engine(fuel_type=\"Gasoline\", horsepower=200)\n",
    "my_car = Car(engine=car_engine)\n",
    "my_car.start()\n",
    "my_car.stop()\n"
   ]
  },
  {
   "cell_type": "code",
   "execution_count": 11,
   "id": "7c1ef9a7",
   "metadata": {},
   "outputs": [
    {
     "name": "stdout",
     "output_type": "stream",
     "text": [
      "Alice is enrolled in Introduction to Programming\n",
      "Bob is enrolled in Introduction to Programming\n",
      "Professor Smith is assigned as the instructor for Introduction to Programming\n",
      "Course: CS101 - Introduction to Programming\n",
      "Instructor: Professor Smith\n",
      "Students:\n",
      "  - Alice\n",
      "  - Bob\n"
     ]
    }
   ],
   "source": [
    "#12. Create a Python class for a university course, using composition to represent students, instructors, and course materials.\n",
    "class Student:\n",
    "    def __init__(self, student_id, name):\n",
    "        self.student_id = student_id\n",
    "        self.name = name\n",
    "    def enroll(self, course):\n",
    "        course.add_student(self)\n",
    "        print(f\"{self.name} is enrolled in {course.course_name}\")\n",
    "class Instructor:\n",
    "    def __init__(self, instructor_id, name):\n",
    "        self.instructor_id = instructor_id\n",
    "        self.name = name\n",
    "    def assign_course(self, course):\n",
    "        course.assign_instructor(self)\n",
    "        print(f\"{self.name} is assigned as the instructor for {course.course_name}\")\n",
    "class Course:\n",
    "    def __init__(self, course_code, course_name):\n",
    "        self.course_code = course_code\n",
    "        self.course_name = course_name\n",
    "        self.students = []\n",
    "        self.instructor = None\n",
    "    def add_student(self, student):\n",
    "        self.students.append(student)\n",
    "    def assign_instructor(self, instructor):\n",
    "        self.instructor = instructor\n",
    "    def display_course_info(self):\n",
    "        print(f\"Course: {self.course_code} - {self.course_name}\")\n",
    "        print(\"Instructor:\", self.instructor.name if self.instructor else \"Not assigned yet\")\n",
    "        print(\"Students:\")\n",
    "        for student in self.students:\n",
    "            print(f\"  - {student.name}\")\n",
    "student1 = Student(student_id=\"S001\", name=\"Alice\")\n",
    "student2 = Student(student_id=\"S002\", name=\"Bob\")\n",
    "instructor = Instructor(instructor_id=\"I001\", name=\"Professor Smith\")\n",
    "programming_course = Course(course_code=\"CS101\", course_name=\"Introduction to Programming\")\n",
    "student1.enroll(programming_course)\n",
    "student2.enroll(programming_course)\n",
    "instructor.assign_course(programming_course)\n",
    "programming_course.display_course_info()"
   ]
  },
  {
   "cell_type": "code",
   "execution_count": null,
   "id": "b769e989",
   "metadata": {},
   "outputs": [],
   "source": [
    "#13. Discuss the challenges and drawbacks of composition, such as increased complexity and potential for tight coupling between objects.\n",
    "1. Increased Complexity:\n",
    "-As a system grows and becomes more complex, managing the relationships between numerous composed objects can becomechallenging.\n",
    "-Developers need to understand the interactions between various components, leading to potential cognitive overhead.\n",
    "2.Potential for Tight Coupling:\n",
    "-While composition is intended to reduce tight coupling between classes, it can still lead to dependencies if not managed carefully.\n",
    "-Changes to one class might have a ripple effect on other classes, especially if they are tightly interconnected."
   ]
  },
  {
   "cell_type": "code",
   "execution_count": 12,
   "id": "18d9a7ed",
   "metadata": {},
   "outputs": [
    {
     "name": "stdout",
     "output_type": "stream",
     "text": [
      "Car is starting...\n",
      "Engine started\n",
      "Car is stopping...\n",
      "Engine stopped\n",
      "Electric car is starting...\n",
      "Electric motor started\n",
      "Electric car is stopping...\n",
      "Electric motor stopped\n"
     ]
    }
   ],
   "source": [
    "class Engine:\n",
    "    def start(self):\n",
    "        print(\"Engine started\")\n",
    "    def stop(self):\n",
    "        print(\"Engine stopped\")\n",
    "class Car:\n",
    "    def __init__(self, engine):\n",
    "        self.engine = engine  \n",
    "    def start(self):\n",
    "        print(\"Car is starting...\")\n",
    "        self.engine.start()\n",
    "    def stop(self):\n",
    "        print(\"Car is stopping...\")\n",
    "        self.engine.stop()\n",
    "class ElectricMotor:\n",
    "    def start(self):\n",
    "        print(\"Electric motor started\")\n",
    "    def stop(self):\n",
    "        print(\"Electric motor stopped\")\n",
    "class ElectricCar:\n",
    "    def __init__(self, motor):\n",
    "        self.motor = motor  \n",
    "    def start(self):\n",
    "        print(\"Electric car is starting...\")\n",
    "        self.motor.start()\n",
    "    def stop(self):\n",
    "        print(\"Electric car is stopping...\")\n",
    "        self.motor.stop()\n",
    "gasoline_engine = Engine()\n",
    "my_car = Car(engine=gasoline_engine)\n",
    "my_car.start()\n",
    "my_car.stop()\n",
    "electric_motor = ElectricMotor()\n",
    "my_electric_car = ElectricCar(motor=electric_motor)\n",
    "my_electric_car.start()\n",
    "my_electric_car.stop()"
   ]
  },
  {
   "cell_type": "code",
   "execution_count": 13,
   "id": "cbfde789",
   "metadata": {},
   "outputs": [
    {
     "name": "stdout",
     "output_type": "stream",
     "text": [
      "Menu: Lunch Menu\n",
      "Dishes:\n",
      "Name: Caprese Salad\n",
      "Description: Fresh salad with tomatoes and cheese\n",
      "Ingredients:\n",
      "2 pieces of Tomato\n",
      "150 grams of Cheese\n",
      "\n",
      "\n",
      "Name: Grilled Cheese Sandwich\n",
      "Description: Classic grilled cheese sandwich\n",
      "Ingredients:\n",
      "150 grams of Cheese\n",
      "2 slices of Bread\n",
      "\n",
      "\n"
     ]
    }
   ],
   "source": [
    "#14. Create a Python class hierarchy for a restaurant system, using composition to represent menus, dishes, and ingredients.\n",
    "class Ingredient:\n",
    "    def __init__(self, name, quantity, unit):\n",
    "        self.name = name\n",
    "        self.quantity = quantity\n",
    "        self.unit = unit\n",
    "    def display_info(self):\n",
    "        print(f\"{self.quantity} {self.unit} of {self.name}\")\n",
    "class Dish:\n",
    "    def __init__(self, name, description, ingredients):\n",
    "        self.name = name\n",
    "        self.description = description\n",
    "        self.ingredients = ingredients  \n",
    "    def display_info(self):\n",
    "        print(f\"Name: {self.name}\")\n",
    "        print(f\"Description: {self.description}\")\n",
    "        print(\"Ingredients:\")\n",
    "        for ingredient in self.ingredients:\n",
    "            ingredient.display_info()\n",
    "        print(\"\\n\")\n",
    "class Menu:\n",
    "    def __init__(self, name, dishes):\n",
    "        self.name = name\n",
    "        self.dishes = dishes \n",
    "    def display_info(self):\n",
    "        print(f\"Menu: {self.name}\")\n",
    "        print(\"Dishes:\")\n",
    "        for dish in self.dishes:\n",
    "            dish.display_info()\n",
    "ingredient1 = Ingredient(name=\"Tomato\", quantity=2, unit=\"pieces\")\n",
    "ingredient2 = Ingredient(name=\"Cheese\", quantity=150, unit=\"grams\")\n",
    "ingredient3 = Ingredient(name=\"Bread\", quantity=2, unit=\"slices\")\n",
    "dish1 = Dish(name=\"Caprese Salad\", description=\"Fresh salad with tomatoes and cheese\", ingredients=[ingredient1, ingredient2])\n",
    "dish2 = Dish(name=\"Grilled Cheese Sandwich\", description=\"Classic grilled cheese sandwich\", ingredients=[ingredient2, ingredient3])\n",
    "menu = Menu(name=\"Lunch Menu\", dishes=[dish1, dish2])\n",
    "menu.display_info()\n"
   ]
  },
  {
   "cell_type": "code",
   "execution_count": null,
   "id": "84eeaddf",
   "metadata": {},
   "outputs": [],
   "source": [
    "#15. Explain how composition enhances code maintainability and modularity in Python programs.\n",
    "Composition enhances code maintainability and modularity in Python programs by promoting a modular design where independent components, \n",
    "each responsible for a specific task, are combined to form a complex system. \n",
    "1.modularity\n",
    "2.ease of maintainance\n",
    "3.flexibility  and maintainability\n",
    "4.readability and understandability.\n",
    "5.code reusability\n",
    "6.testing and debugging\n",
    "7.reduced coupling"
   ]
  },
  {
   "cell_type": "code",
   "execution_count": 14,
   "id": "0ec3e5dd",
   "metadata": {},
   "outputs": [
    {
     "name": "stdout",
     "output_type": "stream",
     "text": [
      "Car is starting...\n",
      "Engine started\n",
      "Car is moving...\n",
      "Wheels rotating\n",
      "Car is stopping...\n",
      "Engine stopped\n"
     ]
    }
   ],
   "source": [
    "class Engine:\n",
    "    def start(self):\n",
    "        print(\"Engine started\")\n",
    "    def stop(self):\n",
    "        print(\"Engine stopped\")\n",
    "class Wheels:\n",
    "    def rotate(self):\n",
    "        print(\"Wheels rotating\")\n",
    "class Car:\n",
    "    def __init__(self, engine, wheels):\n",
    "        self.engine = engine  \n",
    "        self.wheels = wheels  \n",
    "    def start(self):\n",
    "        print(\"Car is starting...\")\n",
    "        self.engine.start()\n",
    "    def drive(self):\n",
    "        print(\"Car is moving...\")\n",
    "        self.wheels.rotate()\n",
    "    def stop(self):\n",
    "        print(\"Car is stopping...\")\n",
    "        self.engine.stop()\n",
    "car_engine = Engine()\n",
    "car_wheels = Wheels()\n",
    "my_car = Car(engine=car_engine, wheels=car_wheels)\n",
    "my_car.start()\n",
    "my_car.drive()\n",
    "my_car.stop()"
   ]
  },
  {
   "cell_type": "code",
   "execution_count": 15,
   "id": "ff5443b5",
   "metadata": {},
   "outputs": [
    {
     "name": "stdout",
     "output_type": "stream",
     "text": [
      "Hero's Information:\n",
      "Health: 100\n",
      "Weapon: Sword\n",
      "Armor: Shield\n",
      "Inventory:\n",
      "Attacking with Sword, dealing 20 damage.\n",
      "Equipping Shield for 15 defense.\n",
      "Added Health Potion to the inventory.\n",
      "Hero's Information:\n",
      "Health: 100\n",
      "Weapon: Sword\n",
      "Armor: Shield\n",
      "Inventory:\n",
      " - Health Potion\n"
     ]
    }
   ],
   "source": [
    "#16. Create a Python class for a computer game character, using composition to represent attributes like weapons, armor, and inventory.\n",
    "class Weapon:\n",
    "    def __init__(self, name, damage):\n",
    "        self.name = name\n",
    "        self.damage = damage\n",
    "    def attack(self):\n",
    "        print(f\"Attacking with {self.name}, dealing {self.damage} damage.\")\n",
    "class Armor:\n",
    "    def __init__(self, name, defense):\n",
    "        self.name = name\n",
    "        self.defense = defense\n",
    "    def equip(self):\n",
    "        print(f\"Equipping {self.name} for {self.defense} defense.\")\n",
    "class Inventory:\n",
    "    def __init__(self):\n",
    "        self.items = []\n",
    "    def add_item(self, item):\n",
    "        self.items.append(item)\n",
    "        print(f\"Added {item.name} to the inventory.\")\n",
    "    def display_inventory(self):\n",
    "        print(\"Inventory:\")\n",
    "        for item in self.items:\n",
    "            print(f\" - {item.name}\")\n",
    "class GameCharacter:\n",
    "    def __init__(self, name, health, weapon=None, armor=None):\n",
    "        self.name = name\n",
    "        self.health = health\n",
    "        self.weapon = weapon  \n",
    "        self.armor = armor  \n",
    "        self.inventory = Inventory()  \n",
    "    def attack(self):\n",
    "        if self.weapon:\n",
    "            self.weapon.attack()\n",
    "        else:\n",
    "            print(f\"{self.name} attacks with bare hands.\")\n",
    "    def defend(self):\n",
    "        if self.armor:\n",
    "            self.armor.equip()\n",
    "        else:\n",
    "            print(f\"{self.name} is defending without armor.\")\n",
    "    def add_item_to_inventory(self, item):\n",
    "        self.inventory.add_item(item)\n",
    "    def display_character_info(self):\n",
    "        print(f\"{self.name}'s Information:\")\n",
    "        print(f\"Health: {self.health}\")\n",
    "        if self.weapon:\n",
    "            print(f\"Weapon: {self.weapon.name}\")\n",
    "        if self.armor:\n",
    "            print(f\"Armor: {self.armor.name}\")\n",
    "        self.inventory.display_inventory()\n",
    "sword = Weapon(name=\"Sword\", damage=20)\n",
    "shield = Armor(name=\"Shield\", defense=15)\n",
    "player_character = GameCharacter(name=\"Hero\", health=100, weapon=sword, armor=shield)\n",
    "player_character.display_character_info()\n",
    "player_character.attack()\n",
    "player_character.defend()\n",
    "health_potion = Weapon(name=\"Health Potion\", damage=0) \n",
    "player_character.add_item_to_inventory(health_potion)\n",
    "player_character.display_character_info()\n"
   ]
  },
  {
   "cell_type": "code",
   "execution_count": null,
   "id": "bde341e9",
   "metadata": {},
   "outputs": [],
   "source": [
    "#17. Describe the concept of \"aggregation\" in composition and how it differs from simple composition.\n",
    "The \"aggregation\" is a form of composition where one object is composed of other objects, but the relationship is considered to\n",
    "be more loosely coupled and more independent than in simple composition. Aggregation implies a \"has-a\" relationship, \n",
    "where an object contains or is associated with other objects, but the contained objects can exist independently of the\n",
    "main object."
   ]
  },
  {
   "cell_type": "code",
   "execution_count": 16,
   "id": "b830cd41",
   "metadata": {},
   "outputs": [
    {
     "name": "stdout",
     "output_type": "stream",
     "text": [
      "Alice - HR Specialist in Human Resources\n",
      "Bob - HR Manager in Human Resources\n"
     ]
    }
   ],
   "source": [
    "class Department:\n",
    "    def __init__(self, name):\n",
    "        self.name = name\n",
    "        self.employees = []\n",
    "    def add_employee(self, employee):\n",
    "        self.employees.append(employee)\n",
    "        employee.department = self \n",
    "class Employee:\n",
    "    def __init__(self, name, position):\n",
    "        self.name = name\n",
    "        self.position = position\n",
    "        self.department = None  \n",
    "hr_department = Department(name=\"Human Resources\")\n",
    "employee1 = Employee(name=\"Alice\", position=\"HR Specialist\")\n",
    "employee2 = Employee(name=\"Bob\", position=\"HR Manager\")\n",
    "hr_department.add_employee(employee1)\n",
    "hr_department.add_employee(employee2)\n",
    "for employee in hr_department.employees:\n",
    "    print(f\"{employee.name} - {employee.position} in {employee.department.name}\")"
   ]
  },
  {
   "cell_type": "code",
   "execution_count": 17,
   "id": "f8f2d8d3",
   "metadata": {},
   "outputs": [
    {
     "name": "stdout",
     "output_type": "stream",
     "text": [
      "House: Cozy Home\n",
      "Rooms:\n",
      "Room: Living Room\n",
      "Furniture:\n",
      "Sofa\n",
      "Appliances:\n",
      "\n",
      "\n",
      "Room: Kitchen\n",
      "Furniture:\n",
      "Appliances:\n",
      "Refrigerator\n",
      "\n",
      "\n"
     ]
    }
   ],
   "source": [
    "#18. Create a Python class for a house, using composition to represent rooms, furniture, and appliances.\n",
    "class Furniture:\n",
    "    def __init__(self, name):\n",
    "        self.name = name\n",
    "    def display_info(self):\n",
    "        print(f\"{self.name}\")\n",
    "class Appliance:\n",
    "    def __init__(self, name):\n",
    "        self.name = name\n",
    "    def display_info(self):\n",
    "        print(f\"{self.name}\")\n",
    "class Room:\n",
    "    def __init__(self, name):\n",
    "        self.name = name\n",
    "        self.furniture = []\n",
    "        self.appliances = []\n",
    "    def add_furniture(self, furniture):\n",
    "        self.furniture.append(furniture)\n",
    "    def add_appliance(self, appliance):\n",
    "        self.appliances.append(appliance)\n",
    "    def display_info(self):\n",
    "        print(f\"Room: {self.name}\")\n",
    "        print(\"Furniture:\")\n",
    "        for item in self.furniture:\n",
    "            item.display_info()\n",
    "        print(\"Appliances:\")\n",
    "        for item in self.appliances:\n",
    "            item.display_info()\n",
    "        print(\"\\n\")\n",
    "class House:\n",
    "    def __init__(self, name):\n",
    "        self.name = name\n",
    "        self.rooms = []\n",
    "    def add_room(self, room):\n",
    "        self.rooms.append(room)\n",
    "    def display_info(self):\n",
    "        print(f\"House: {self.name}\")\n",
    "        print(\"Rooms:\")\n",
    "        for room in self.rooms:\n",
    "            room.display_info()\n",
    "sofa = Furniture(name=\"Sofa\")\n",
    "fridge = Appliance(name=\"Refrigerator\")\n",
    "living_room = Room(name=\"Living Room\")\n",
    "kitchen = Room(name=\"Kitchen\")\n",
    "living_room.add_furniture(sofa)\n",
    "kitchen.add_appliance(fridge)\n",
    "my_house = House(name=\"Cozy Home\")\n",
    "my_house.add_room(living_room)\n",
    "my_house.add_room(kitchen)\n",
    "my_house.display_info()"
   ]
  },
  {
   "cell_type": "code",
   "execution_count": null,
   "id": "2da245e2",
   "metadata": {},
   "outputs": [],
   "source": [
    "#19. How can you achieve flexibility in composed objects by allowing them to be replaced or modified dynamically at runtime?\n",
    "class Engine:\n",
    "    def start(self):\n",
    "        pass\n",
    "class ElectricEngine(Engine):\n",
    "    def start(self):\n",
    "        print(\"Electric engine started\")\n",
    "class GasolineEngine(Engine):\n",
    "    def start(self):\n",
    "        print(\"Gasoline engine started\")\n",
    "class CarFactory:\n",
    "    def create_car(self, engine):\n",
    "        pass\n",
    "class ElectricCarFactory(CarFactory):\n",
    "    def create_car(self):\n",
    "        return Car(engine=ElectricEngine())\n",
    "class GasolineCarFactory(CarFactory):\n",
    "    def create_car(self):\n",
    "        return Car(engine=GasolineEngine())\n",
    "electric_car_factory = ElectricCarFactory()\n",
    "electric_car = electric_car_factory.create_car()\n",
    "electric_car.start()\n",
    "gasoline_car_factory = GasolineCarFactory()\n",
    "gasoline_car = gasoline_car_factory.create_car()\n",
    "gasoline_car.start()"
   ]
  },
  {
   "cell_type": "code",
   "execution_count": 19,
   "id": "d4c137e5",
   "metadata": {},
   "outputs": [
    {
     "name": "stdout",
     "output_type": "stream",
     "text": [
      "Users:\n",
      "- Alice Johnson\n",
      "- Bob Smith\n",
      "Alice Johnson's Timeline:\n",
      "Post by alice123: Hello, social media world!\n",
      "Comments:\n",
      "bob456: Hi Alice! Nice post.\n",
      "\n",
      "\n",
      "Bob Smith's Timeline:\n",
      "Post by bob456: Python is awesome!\n",
      "Comments:\n",
      "alice123: Totally agree, Bob!\n",
      "\n",
      "\n"
     ]
    }
   ],
   "source": [
    "#20. Create a Python class for a social media application, using composition to represent users, posts, and comments?\n",
    "class Comment:\n",
    "    def __init__(self, user, text):\n",
    "        self.user = user\n",
    "        self.text = text\n",
    "    def display_info(self):\n",
    "        print(f\"{self.user.username}: {self.text}\")\n",
    "class Post:\n",
    "    def __init__(self, user, content):\n",
    "        self.user = user\n",
    "        self.content = content\n",
    "        self.comments = []\n",
    "    def add_comment(self, comment):\n",
    "        self.comments.append(comment)\n",
    "    def display_info(self):\n",
    "        print(f\"Post by {self.user.username}: {self.content}\")\n",
    "        print(\"Comments:\")\n",
    "        for comment in self.comments:\n",
    "            comment.display_info()\n",
    "        print(\"\\n\")\n",
    "class User:\n",
    "    def __init__(self, username, name):\n",
    "        self.username = username\n",
    "        self.name = name\n",
    "        self.posts = []\n",
    "    def create_post(self, content):\n",
    "        post = Post(user=self, content=content)\n",
    "        self.posts.append(post)\n",
    "        return post\n",
    "    def display_timeline(self):\n",
    "        print(f\"{self.name}'s Timeline:\")\n",
    "        for post in self.posts:\n",
    "            post.display_info()\n",
    "class SocialMediaApp:\n",
    "    def __init__(self):\n",
    "        self.users = []\n",
    "    def add_user(self, user):\n",
    "        self.users.append(user)\n",
    "    def display_users(self):\n",
    "        print(\"Users:\")\n",
    "        for user in self.users:\n",
    "            print(f\"- {user.name}\")\n",
    "    def display_user_timelines(self):\n",
    "        for user in self.users:\n",
    "            user.display_timeline()\n",
    "user1 = User(username=\"alice123\", name=\"Alice Johnson\")\n",
    "user2 = User(username=\"bob456\", name=\"Bob Smith\")\n",
    "social_media_app = SocialMediaApp()\n",
    "social_media_app.add_user(user1)\n",
    "social_media_app.add_user(user2)\n",
    "post1 = user1.create_post(content=\"Hello, social media world!\")\n",
    "comment1 = Comment(user=user2, text=\"Hi Alice! Nice post.\")\n",
    "post1.add_comment(comment1)\n",
    "post2 = user2.create_post(content=\"Python is awesome!\")\n",
    "comment2 = Comment(user=user1, text=\"Totally agree, Bob!\")\n",
    "post2.add_comment(comment2)\n",
    "social_media_app.display_users()\n",
    "social_media_app.display_user_timelines()"
   ]
  },
  {
   "cell_type": "code",
   "execution_count": null,
   "id": "7cddf0f8",
   "metadata": {},
   "outputs": [],
   "source": []
  }
 ],
 "metadata": {
  "kernelspec": {
   "display_name": "Python 3 (ipykernel)",
   "language": "python",
   "name": "python3"
  },
  "language_info": {
   "codemirror_mode": {
    "name": "ipython",
    "version": 3
   },
   "file_extension": ".py",
   "mimetype": "text/x-python",
   "name": "python",
   "nbconvert_exporter": "python",
   "pygments_lexer": "ipython3",
   "version": "3.10.9"
  }
 },
 "nbformat": 4,
 "nbformat_minor": 5
}
